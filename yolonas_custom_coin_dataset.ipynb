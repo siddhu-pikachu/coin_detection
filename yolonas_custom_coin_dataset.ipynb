{
  "nbformat": 4,
  "nbformat_minor": 0,
  "metadata": {
    "colab": {
      "provenance": [],
      "gpuType": "T4",
      "include_colab_link": true
    },
    "kernelspec": {
      "name": "python3",
      "display_name": "Python 3"
    },
    "language_info": {
      "name": "python"
    },
    "accelerator": "GPU",
    "widgets": {
      "application/vnd.jupyter.widget-state+json": {
        "373f7261d1d9470b8e22a5c88490b3ac": {
          "model_module": "@jupyter-widgets/controls",
          "model_name": "HBoxModel",
          "model_module_version": "1.5.0",
          "state": {
            "_dom_classes": [],
            "_model_module": "@jupyter-widgets/controls",
            "_model_module_version": "1.5.0",
            "_model_name": "HBoxModel",
            "_view_count": null,
            "_view_module": "@jupyter-widgets/controls",
            "_view_module_version": "1.5.0",
            "_view_name": "HBoxView",
            "box_style": "",
            "children": [
              "IPY_MODEL_d9f9581f61284be48873eba664e699e7",
              "IPY_MODEL_3ceeecd602c042629ac4a3b4bb1f7118",
              "IPY_MODEL_20a1defd10054683970253f225ec85fd"
            ],
            "layout": "IPY_MODEL_a3ab93d3d23d4594b528c193331f0618"
          }
        },
        "d9f9581f61284be48873eba664e699e7": {
          "model_module": "@jupyter-widgets/controls",
          "model_name": "HTMLModel",
          "model_module_version": "1.5.0",
          "state": {
            "_dom_classes": [],
            "_model_module": "@jupyter-widgets/controls",
            "_model_module_version": "1.5.0",
            "_model_name": "HTMLModel",
            "_view_count": null,
            "_view_module": "@jupyter-widgets/controls",
            "_view_module_version": "1.5.0",
            "_view_name": "HTMLView",
            "description": "",
            "description_tooltip": null,
            "layout": "IPY_MODEL_53d8326a9b9e42f19d3d0e82783e8562",
            "placeholder": "​",
            "style": "IPY_MODEL_afc6b51a69804cfb88b391bac54bc724",
            "value": "100%"
          }
        },
        "3ceeecd602c042629ac4a3b4bb1f7118": {
          "model_module": "@jupyter-widgets/controls",
          "model_name": "FloatProgressModel",
          "model_module_version": "1.5.0",
          "state": {
            "_dom_classes": [],
            "_model_module": "@jupyter-widgets/controls",
            "_model_module_version": "1.5.0",
            "_model_name": "FloatProgressModel",
            "_view_count": null,
            "_view_module": "@jupyter-widgets/controls",
            "_view_module_version": "1.5.0",
            "_view_name": "ProgressView",
            "bar_style": "success",
            "description": "",
            "description_tooltip": null,
            "layout": "IPY_MODEL_6243b98742a04a709509165e9a989bb4",
            "max": 76688335,
            "min": 0,
            "orientation": "horizontal",
            "style": "IPY_MODEL_28eb7c004a69401ea93c469a4e4ca646",
            "value": 76688335
          }
        },
        "20a1defd10054683970253f225ec85fd": {
          "model_module": "@jupyter-widgets/controls",
          "model_name": "HTMLModel",
          "model_module_version": "1.5.0",
          "state": {
            "_dom_classes": [],
            "_model_module": "@jupyter-widgets/controls",
            "_model_module_version": "1.5.0",
            "_model_name": "HTMLModel",
            "_view_count": null,
            "_view_module": "@jupyter-widgets/controls",
            "_view_module_version": "1.5.0",
            "_view_name": "HTMLView",
            "description": "",
            "description_tooltip": null,
            "layout": "IPY_MODEL_26e7e83402104f47a6b46f3950703b10",
            "placeholder": "​",
            "style": "IPY_MODEL_744ed9df6b9d4f45b1794e0587f1978f",
            "value": " 73.1M/73.1M [00:02&lt;00:00, 28.7MB/s]"
          }
        },
        "a3ab93d3d23d4594b528c193331f0618": {
          "model_module": "@jupyter-widgets/base",
          "model_name": "LayoutModel",
          "model_module_version": "1.2.0",
          "state": {
            "_model_module": "@jupyter-widgets/base",
            "_model_module_version": "1.2.0",
            "_model_name": "LayoutModel",
            "_view_count": null,
            "_view_module": "@jupyter-widgets/base",
            "_view_module_version": "1.2.0",
            "_view_name": "LayoutView",
            "align_content": null,
            "align_items": null,
            "align_self": null,
            "border": null,
            "bottom": null,
            "display": null,
            "flex": null,
            "flex_flow": null,
            "grid_area": null,
            "grid_auto_columns": null,
            "grid_auto_flow": null,
            "grid_auto_rows": null,
            "grid_column": null,
            "grid_gap": null,
            "grid_row": null,
            "grid_template_areas": null,
            "grid_template_columns": null,
            "grid_template_rows": null,
            "height": null,
            "justify_content": null,
            "justify_items": null,
            "left": null,
            "margin": null,
            "max_height": null,
            "max_width": null,
            "min_height": null,
            "min_width": null,
            "object_fit": null,
            "object_position": null,
            "order": null,
            "overflow": null,
            "overflow_x": null,
            "overflow_y": null,
            "padding": null,
            "right": null,
            "top": null,
            "visibility": null,
            "width": null
          }
        },
        "53d8326a9b9e42f19d3d0e82783e8562": {
          "model_module": "@jupyter-widgets/base",
          "model_name": "LayoutModel",
          "model_module_version": "1.2.0",
          "state": {
            "_model_module": "@jupyter-widgets/base",
            "_model_module_version": "1.2.0",
            "_model_name": "LayoutModel",
            "_view_count": null,
            "_view_module": "@jupyter-widgets/base",
            "_view_module_version": "1.2.0",
            "_view_name": "LayoutView",
            "align_content": null,
            "align_items": null,
            "align_self": null,
            "border": null,
            "bottom": null,
            "display": null,
            "flex": null,
            "flex_flow": null,
            "grid_area": null,
            "grid_auto_columns": null,
            "grid_auto_flow": null,
            "grid_auto_rows": null,
            "grid_column": null,
            "grid_gap": null,
            "grid_row": null,
            "grid_template_areas": null,
            "grid_template_columns": null,
            "grid_template_rows": null,
            "height": null,
            "justify_content": null,
            "justify_items": null,
            "left": null,
            "margin": null,
            "max_height": null,
            "max_width": null,
            "min_height": null,
            "min_width": null,
            "object_fit": null,
            "object_position": null,
            "order": null,
            "overflow": null,
            "overflow_x": null,
            "overflow_y": null,
            "padding": null,
            "right": null,
            "top": null,
            "visibility": null,
            "width": null
          }
        },
        "afc6b51a69804cfb88b391bac54bc724": {
          "model_module": "@jupyter-widgets/controls",
          "model_name": "DescriptionStyleModel",
          "model_module_version": "1.5.0",
          "state": {
            "_model_module": "@jupyter-widgets/controls",
            "_model_module_version": "1.5.0",
            "_model_name": "DescriptionStyleModel",
            "_view_count": null,
            "_view_module": "@jupyter-widgets/base",
            "_view_module_version": "1.2.0",
            "_view_name": "StyleView",
            "description_width": ""
          }
        },
        "6243b98742a04a709509165e9a989bb4": {
          "model_module": "@jupyter-widgets/base",
          "model_name": "LayoutModel",
          "model_module_version": "1.2.0",
          "state": {
            "_model_module": "@jupyter-widgets/base",
            "_model_module_version": "1.2.0",
            "_model_name": "LayoutModel",
            "_view_count": null,
            "_view_module": "@jupyter-widgets/base",
            "_view_module_version": "1.2.0",
            "_view_name": "LayoutView",
            "align_content": null,
            "align_items": null,
            "align_self": null,
            "border": null,
            "bottom": null,
            "display": null,
            "flex": null,
            "flex_flow": null,
            "grid_area": null,
            "grid_auto_columns": null,
            "grid_auto_flow": null,
            "grid_auto_rows": null,
            "grid_column": null,
            "grid_gap": null,
            "grid_row": null,
            "grid_template_areas": null,
            "grid_template_columns": null,
            "grid_template_rows": null,
            "height": null,
            "justify_content": null,
            "justify_items": null,
            "left": null,
            "margin": null,
            "max_height": null,
            "max_width": null,
            "min_height": null,
            "min_width": null,
            "object_fit": null,
            "object_position": null,
            "order": null,
            "overflow": null,
            "overflow_x": null,
            "overflow_y": null,
            "padding": null,
            "right": null,
            "top": null,
            "visibility": null,
            "width": null
          }
        },
        "28eb7c004a69401ea93c469a4e4ca646": {
          "model_module": "@jupyter-widgets/controls",
          "model_name": "ProgressStyleModel",
          "model_module_version": "1.5.0",
          "state": {
            "_model_module": "@jupyter-widgets/controls",
            "_model_module_version": "1.5.0",
            "_model_name": "ProgressStyleModel",
            "_view_count": null,
            "_view_module": "@jupyter-widgets/base",
            "_view_module_version": "1.2.0",
            "_view_name": "StyleView",
            "bar_color": null,
            "description_width": ""
          }
        },
        "26e7e83402104f47a6b46f3950703b10": {
          "model_module": "@jupyter-widgets/base",
          "model_name": "LayoutModel",
          "model_module_version": "1.2.0",
          "state": {
            "_model_module": "@jupyter-widgets/base",
            "_model_module_version": "1.2.0",
            "_model_name": "LayoutModel",
            "_view_count": null,
            "_view_module": "@jupyter-widgets/base",
            "_view_module_version": "1.2.0",
            "_view_name": "LayoutView",
            "align_content": null,
            "align_items": null,
            "align_self": null,
            "border": null,
            "bottom": null,
            "display": null,
            "flex": null,
            "flex_flow": null,
            "grid_area": null,
            "grid_auto_columns": null,
            "grid_auto_flow": null,
            "grid_auto_rows": null,
            "grid_column": null,
            "grid_gap": null,
            "grid_row": null,
            "grid_template_areas": null,
            "grid_template_columns": null,
            "grid_template_rows": null,
            "height": null,
            "justify_content": null,
            "justify_items": null,
            "left": null,
            "margin": null,
            "max_height": null,
            "max_width": null,
            "min_height": null,
            "min_width": null,
            "object_fit": null,
            "object_position": null,
            "order": null,
            "overflow": null,
            "overflow_x": null,
            "overflow_y": null,
            "padding": null,
            "right": null,
            "top": null,
            "visibility": null,
            "width": null
          }
        },
        "744ed9df6b9d4f45b1794e0587f1978f": {
          "model_module": "@jupyter-widgets/controls",
          "model_name": "DescriptionStyleModel",
          "model_module_version": "1.5.0",
          "state": {
            "_model_module": "@jupyter-widgets/controls",
            "_model_module_version": "1.5.0",
            "_model_name": "DescriptionStyleModel",
            "_view_count": null,
            "_view_module": "@jupyter-widgets/base",
            "_view_module_version": "1.2.0",
            "_view_name": "StyleView",
            "description_width": ""
          }
        }
      }
    }
  },
  "cells": [
    {
      "cell_type": "markdown",
      "metadata": {
        "id": "view-in-github",
        "colab_type": "text"
      },
      "source": [
        "<a href=\"https://colab.research.google.com/github/siddhu-pikachu/coin_detection/blob/main/yolonas_custom_coin_dataset.ipynb\" target=\"_parent\"><img src=\"https://colab.research.google.com/assets/colab-badge.svg\" alt=\"Open In Colab\"/></a>"
      ]
    },
    {
      "cell_type": "code",
      "source": [
        "!nvidia-smi"
      ],
      "metadata": {
        "colab": {
          "base_uri": "https://localhost:8080/"
        },
        "id": "H0760HRgZPMN",
        "outputId": "df26866e-d41f-4f10-eedf-4c71efec3894"
      },
      "execution_count": null,
      "outputs": [
        {
          "output_type": "stream",
          "name": "stdout",
          "text": [
            "Sun Jun 25 13:35:41 2023       \n",
            "+-----------------------------------------------------------------------------+\n",
            "| NVIDIA-SMI 525.85.12    Driver Version: 525.85.12    CUDA Version: 12.0     |\n",
            "|-------------------------------+----------------------+----------------------+\n",
            "| GPU  Name        Persistence-M| Bus-Id        Disp.A | Volatile Uncorr. ECC |\n",
            "| Fan  Temp  Perf  Pwr:Usage/Cap|         Memory-Usage | GPU-Util  Compute M. |\n",
            "|                               |                      |               MIG M. |\n",
            "|===============================+======================+======================|\n",
            "|   0  Tesla T4            Off  | 00000000:00:04.0 Off |                    0 |\n",
            "| N/A   37C    P8     9W /  70W |      0MiB / 15360MiB |      0%      Default |\n",
            "|                               |                      |                  N/A |\n",
            "+-------------------------------+----------------------+----------------------+\n",
            "                                                                               \n",
            "+-----------------------------------------------------------------------------+\n",
            "| Processes:                                                                  |\n",
            "|  GPU   GI   CI        PID   Type   Process name                  GPU Memory |\n",
            "|        ID   ID                                                   Usage      |\n",
            "|=============================================================================|\n",
            "|  No running processes found                                                 |\n",
            "+-----------------------------------------------------------------------------+\n"
          ]
        }
      ]
    },
    {
      "cell_type": "code",
      "source": [
        "!pip install -q super-gradients==3.1.1\n",
        "!pip install -q roboflow\n",
        "!pip install -q supervision"
      ],
      "metadata": {
        "id": "SdQ5JGblbJTk",
        "outputId": "0238d2f9-716c-4cb3-f0c7-0cb4e840fed4",
        "colab": {
          "base_uri": "https://localhost:8080/"
        }
      },
      "execution_count": null,
      "outputs": [
        {
          "output_type": "stream",
          "name": "stdout",
          "text": [
            "\u001b[31mERROR: pip's dependency resolver does not currently take into account all the packages that are installed. This behaviour is the source of the following dependency conflicts.\n",
            "roboflow 1.1.0 requires pyparsing==2.4.7, but you have pyparsing 2.4.5 which is incompatible.\u001b[0m\u001b[31m\n",
            "\u001b[0m\u001b[31mERROR: pip's dependency resolver does not currently take into account all the packages that are installed. This behaviour is the source of the following dependency conflicts.\n",
            "super-gradients 3.1.1 requires pyparsing==2.4.5, but you have pyparsing 2.4.7 which is incompatible.\u001b[0m\u001b[31m\n",
            "\u001b[0m"
          ]
        }
      ]
    },
    {
      "cell_type": "code",
      "source": [
        "import os\n",
        "HOME = os.getcwd()\n",
        "print(HOME)"
      ],
      "metadata": {
        "colab": {
          "base_uri": "https://localhost:8080/"
        },
        "id": "gyUQ1xT5ijdY",
        "outputId": "1451db3e-02e6-41e4-b47c-80efca728227"
      },
      "execution_count": null,
      "outputs": [
        {
          "output_type": "stream",
          "name": "stdout",
          "text": [
            "/content\n"
          ]
        }
      ]
    },
    {
      "cell_type": "code",
      "source": [
        "import torch"
      ],
      "metadata": {
        "id": "xh_YA7Z4k0jd"
      },
      "execution_count": null,
      "outputs": []
    },
    {
      "cell_type": "code",
      "source": [
        "f\"{HOME}/data\""
      ],
      "metadata": {
        "colab": {
          "base_uri": "https://localhost:8080/",
          "height": 35
        },
        "id": "2W7Tlk74djos",
        "outputId": "819ed061-cb51-45fb-b343-f7808cb18d17"
      },
      "execution_count": null,
      "outputs": [
        {
          "output_type": "execute_result",
          "data": {
            "text/plain": [
              "'/content/data'"
            ],
            "application/vnd.google.colaboratory.intrinsic+json": {
              "type": "string"
            }
          },
          "metadata": {},
          "execution_count": 5
        }
      ]
    },
    {
      "cell_type": "code",
      "source": [
        "%cd {HOME}\n",
        "\n",
        "import roboflow\n",
        "from roboflow import Roboflow\n",
        "\n",
        "roboflow.login()\n",
        "\n",
        "rf = Roboflow()\n",
        "\n",
        "project = rf.workspace(\"coindetection-iu1te\").project(\"coin-detector-and-counter\")\n",
        "dataset = project.version(2).download(\"yolov5\")"
      ],
      "metadata": {
        "colab": {
          "base_uri": "https://localhost:8080/"
        },
        "id": "clSaBPhCi2v3",
        "outputId": "4c244d39-8b0a-4009-e828-2de7db4381e8"
      },
      "execution_count": null,
      "outputs": [
        {
          "output_type": "stream",
          "name": "stdout",
          "text": [
            "/content\n",
            "You are already logged into Roboflow. To make a different login, run roboflow.login(force=True).\n",
            "loading Roboflow workspace...\n",
            "loading Roboflow project...\n",
            "Downloading Dataset Version Zip in coin-detector-and-counter-2 to yolov5pytorch: 100% [330353161 / 330353161] bytes\n"
          ]
        },
        {
          "output_type": "stream",
          "name": "stderr",
          "text": [
            "Extracting Dataset Version Zip to coin-detector-and-counter-2 in yolov5pytorch:: 100%|██████████| 5486/5486 [00:03<00:00, 1580.57it/s]\n"
          ]
        }
      ]
    },
    {
      "cell_type": "code",
      "source": [
        "LOCATION = dataset.location\n",
        "print(\"location:\", LOCATION)\n",
        "CLASSES = sorted(project.classes.keys())\n",
        "print(\"classes:\", CLASSES)"
      ],
      "metadata": {
        "colab": {
          "base_uri": "https://localhost:8080/"
        },
        "id": "y6IjTSfetvTl",
        "outputId": "7d25aefb-5d4b-4e06-8bc7-c3f74b96cdf9"
      },
      "execution_count": null,
      "outputs": [
        {
          "output_type": "stream",
          "name": "stdout",
          "text": [
            "location: /content/coin-detector-and-counter-2\n",
            "classes: ['10_coin', '1_coin', '2_coin', '5_coin']\n"
          ]
        }
      ]
    },
    {
      "cell_type": "code",
      "source": [
        "MODEL_ARCH = 'yolo_nas_s'\n",
        "BATCH_SIZE = 8\n",
        "MAX_EPOCHS = 15\n",
        "CHECKPOINT_DIR = f'{HOME}/checkpoints'\n",
        "EXPERIMENT_NAME = project.name.lower().replace(\" \", \"_\")"
      ],
      "metadata": {
        "id": "pCW34CVDHuKr"
      },
      "execution_count": null,
      "outputs": []
    },
    {
      "cell_type": "code",
      "source": [
        "from super_gradients.training import Trainer\n",
        "\n",
        "trainer = Trainer(experiment_name=EXPERIMENT_NAME, ckpt_root_dir=CHECKPOINT_DIR)"
      ],
      "metadata": {
        "id": "sGBOHyPc11LA",
        "outputId": "f3168479-9ce9-4abd-c72c-40412e51afda",
        "colab": {
          "base_uri": "https://localhost:8080/"
        }
      },
      "execution_count": null,
      "outputs": [
        {
          "output_type": "stream",
          "name": "stderr",
          "text": [
            "[2023-06-25 13:37:42] INFO - crash_tips_setup.py - Crash tips is enabled. You can set your environment variable to CRASH_HANDLER=FALSE to disable it\n"
          ]
        },
        {
          "output_type": "stream",
          "name": "stdout",
          "text": [
            "The console stream is logged into /root/sg_logs/console.log\n"
          ]
        },
        {
          "output_type": "stream",
          "name": "stderr",
          "text": [
            "Setuptools is replacing distutils.\n",
            "[2023-06-25 13:37:47] WARNING - __init__.py - Failed to import pytorch_quantization\n",
            "[2023-06-25 13:37:47] WARNING - calibrator.py - Failed to import pytorch_quantization\n",
            "[2023-06-25 13:37:47] WARNING - export.py - Failed to import pytorch_quantization\n",
            "[2023-06-25 13:37:47] WARNING - selective_quantization_utils.py - Failed to import pytorch_quantization\n"
          ]
        }
      ]
    },
    {
      "cell_type": "code",
      "source": [
        "dataset_params = {\n",
        "    'data_dir': LOCATION,\n",
        "    'train_images_dir':'train/images',\n",
        "    'train_labels_dir':'train/labels',\n",
        "    'val_images_dir':'valid/images',\n",
        "    'val_labels_dir':'valid/labels',\n",
        "    'test_images_dir':'test/images',\n",
        "    'test_labels_dir':'test/labels',\n",
        "    'classes': CLASSES\n",
        "}"
      ],
      "metadata": {
        "id": "0K0strkSsae3"
      },
      "execution_count": null,
      "outputs": []
    },
    {
      "cell_type": "code",
      "source": [
        "from super_gradients.training.dataloaders.dataloaders import (\n",
        "    coco_detection_yolo_format_train, coco_detection_yolo_format_val)\n",
        "\n",
        "train_data = coco_detection_yolo_format_train(\n",
        "    dataset_params={\n",
        "        'data_dir': dataset_params['data_dir'],\n",
        "        'images_dir': dataset_params['train_images_dir'],\n",
        "        'labels_dir': dataset_params['train_labels_dir'],\n",
        "        'classes': dataset_params['classes']\n",
        "    },\n",
        "    dataloader_params={\n",
        "        'batch_size': BATCH_SIZE,\n",
        "        'num_workers': 2\n",
        "    }\n",
        ")\n",
        "\n",
        "val_data = coco_detection_yolo_format_val(\n",
        "    dataset_params={\n",
        "        'data_dir': dataset_params['data_dir'],\n",
        "        'images_dir': dataset_params['val_images_dir'],\n",
        "        'labels_dir': dataset_params['val_labels_dir'],\n",
        "        'classes': dataset_params['classes']\n",
        "    },\n",
        "    dataloader_params={\n",
        "        'batch_size': BATCH_SIZE,\n",
        "        'num_workers': 2\n",
        "    }\n",
        ")\n",
        "\n",
        "test_data = coco_detection_yolo_format_val(\n",
        "    dataset_params={\n",
        "        'data_dir': dataset_params['data_dir'],\n",
        "        'images_dir': dataset_params['test_images_dir'],\n",
        "        'labels_dir': dataset_params['test_labels_dir'],\n",
        "        'classes': dataset_params['classes']\n",
        "    },\n",
        "    dataloader_params={\n",
        "        'batch_size': BATCH_SIZE,\n",
        "        'num_workers': 2\n",
        "    }\n",
        ")"
      ],
      "metadata": {
        "colab": {
          "base_uri": "https://localhost:8080/"
        },
        "id": "INjHea8ptAtQ",
        "outputId": "0ec81ff5-0be2-41dc-c1f9-8fbf0a7bcc0a"
      },
      "execution_count": null,
      "outputs": [
        {
          "output_type": "stream",
          "name": "stderr",
          "text": [
            "Caching annotations: 100%|██████████| 2385/2385 [00:00<00:00, 5132.91it/s]\n",
            "[2023-06-25 13:37:48] WARNING - detection_dataset.py - Found 3 invalid bbox that were ignored. For more information, please set `show_all_warnings=True`.\n",
            "Caching annotations: 100%|██████████| 229/229 [00:00<00:00, 4272.44it/s]\n",
            "Caching annotations:   0%|          | 0/123 [00:00<?, ?it/s]"
          ]
        }
      ]
    },
    {
      "cell_type": "code",
      "source": [
        "train_data.dataset.transforms"
      ],
      "metadata": {
        "id": "bhgnHgJIw48k",
        "outputId": "000a4f6e-45da-4bb2-e895-ce74945210ca",
        "colab": {
          "base_uri": "https://localhost:8080/"
        }
      },
      "execution_count": null,
      "outputs": [
        {
          "output_type": "execute_result",
          "data": {
            "text/plain": [
              "[DetectionMosaic('additional_samples_count': 3, 'non_empty_targets': False, 'prob': 1.0, 'input_dim': [640, 640], 'enable_mosaic': True, 'border_value': 114),\n",
              " DetectionRandomAffine('additional_samples_count': 0, 'non_empty_targets': False, 'degrees': 10.0, 'translate': 0.1, 'scale': [0.1, 2], 'shear': 2.0, 'target_size': [640, 640], 'enable': True, 'filter_box_candidates': True, 'wh_thr': 2, 'ar_thr': 20, 'area_thr': 0.1, 'border_value': 114),\n",
              " DetectionMixup('additional_samples_count': 1, 'non_empty_targets': True, 'input_dim': [640, 640], 'mixup_scale': [0.5, 1.5], 'prob': 1.0, 'enable_mixup': True, 'flip_prob': 0.5, 'border_value': 114),\n",
              " DetectionHSV('additional_samples_count': 0, 'non_empty_targets': False, 'prob': 1.0, 'hgain': 5, 'sgain': 30, 'vgain': 30, 'bgr_channels': (0, 1, 2), '_additional_channels_warned': False),\n",
              " DetectionHorizontalFlip('additional_samples_count': 0, 'non_empty_targets': False, 'prob': 0.5, 'max_targets': 120),\n",
              " DetectionPaddedRescale('swap': (2, 0, 1), 'input_dim': [640, 640], 'max_targets': 120, 'pad_value': 114),\n",
              " DetectionTargetsFormatTransform('additional_samples_count': 0, 'non_empty_targets': False, 'input_format': OrderedDict([('bboxes', name=bboxes length=4 format=<super_gradients.training.datasets.data_formats.bbox_formats.xyxy.XYXYCoordinateFormat object at 0x7f87d4f752a0>), ('labels', name=labels length=1)]), 'output_format': OrderedDict([('labels', name=labels length=1), ('bboxes', name=bboxes length=4 format=<super_gradients.training.datasets.data_formats.bbox_formats.cxcywh.CXCYWHCoordinateFormat object at 0x7f87d4fa40a0>)]), 'max_targets': 120, 'min_bbox_edge_size': 1, 'input_dim': [640, 640], 'targets_format_converter': <super_gradients.training.datasets.data_formats.format_converter.ConcatenatedTensorFormatConverter object at 0x7f87d2ffcb80>)]"
            ]
          },
          "metadata": {},
          "execution_count": 12
        }
      ]
    },
    {
      "cell_type": "markdown",
      "source": [
        "### Instantiate the model"
      ],
      "metadata": {
        "id": "0QOZ87k9PxIo"
      }
    },
    {
      "cell_type": "code",
      "source": [
        "from super_gradients.training import models\n",
        "\n",
        "model = models.get(\n",
        "    MODEL_ARCH,\n",
        "    num_classes=len(dataset_params['classes']),\n",
        "    pretrained_weights=\"coco\"\n",
        ")"
      ],
      "metadata": {
        "colab": {
          "base_uri": "https://localhost:8080/",
          "height": 158,
          "referenced_widgets": [
            "373f7261d1d9470b8e22a5c88490b3ac",
            "d9f9581f61284be48873eba664e699e7",
            "3ceeecd602c042629ac4a3b4bb1f7118",
            "20a1defd10054683970253f225ec85fd",
            "a3ab93d3d23d4594b528c193331f0618",
            "53d8326a9b9e42f19d3d0e82783e8562",
            "afc6b51a69804cfb88b391bac54bc724",
            "6243b98742a04a709509165e9a989bb4",
            "28eb7c004a69401ea93c469a4e4ca646",
            "26e7e83402104f47a6b46f3950703b10",
            "744ed9df6b9d4f45b1794e0587f1978f"
          ]
        },
        "id": "GyijtlTLxAsU",
        "outputId": "9a7d4d2e-2e61-46ce-ed41-9d7b9bee425e"
      },
      "execution_count": null,
      "outputs": [
        {
          "output_type": "stream",
          "name": "stderr",
          "text": [
            "\rCaching annotations: 100%|██████████| 123/123 [00:00<00:00, 4647.41it/s]\n",
            "[2023-06-25 13:37:48] INFO - checkpoint_utils.py - License Notification: YOLO-NAS pre-trained weights are subjected to the specific license terms and conditions detailed in \n",
            "https://github.com/Deci-AI/super-gradients/blob/master/LICENSE.YOLONAS.md\n",
            "By downloading the pre-trained weight files you agree to comply with these terms.\n",
            "Downloading: \"https://sghub.deci.ai/models/yolo_nas_s_coco.pth\" to /root/.cache/torch/hub/checkpoints/yolo_nas_s_coco.pth\n"
          ]
        },
        {
          "output_type": "display_data",
          "data": {
            "text/plain": [
              "  0%|          | 0.00/73.1M [00:00<?, ?B/s]"
            ],
            "application/vnd.jupyter.widget-view+json": {
              "version_major": 2,
              "version_minor": 0,
              "model_id": "373f7261d1d9470b8e22a5c88490b3ac"
            }
          },
          "metadata": {}
        }
      ]
    },
    {
      "cell_type": "markdown",
      "source": [
        "### Define metrics and training parameters"
      ],
      "metadata": {
        "id": "YTr4yUNyPOQt"
      }
    },
    {
      "cell_type": "code",
      "source": [
        "from super_gradients.training.losses import PPYoloELoss\n",
        "from super_gradients.training.metrics import DetectionMetrics_050\n",
        "from super_gradients.training.models.detection_models.pp_yolo_e import PPYoloEPostPredictionCallback\n",
        "\n",
        "train_params = {\n",
        "    'silent_mode': False,\n",
        "    \"average_best_models\":True,\n",
        "    \"warmup_mode\": \"linear_epoch_step\",\n",
        "    \"warmup_initial_lr\": 1e-6,\n",
        "    \"lr_warmup_epochs\": 3,\n",
        "    \"initial_lr\": 5e-4,\n",
        "    \"lr_mode\": \"cosine\",\n",
        "    \"cosine_final_lr_ratio\": 0.1,\n",
        "    \"optimizer\": \"Adam\",\n",
        "    \"optimizer_params\": {\"weight_decay\": 0.0001},\n",
        "    \"zero_weight_decay_on_bias_and_bn\": True,\n",
        "    \"ema\": True,\n",
        "    \"ema_params\": {\"decay\": 0.9, \"decay_type\": \"threshold\"},\n",
        "    \"max_epochs\": MAX_EPOCHS,\n",
        "    \"mixed_precision\": True,\n",
        "    \"loss\": PPYoloELoss(\n",
        "        use_static_assigner=False,\n",
        "        num_classes=len(dataset_params['classes']),\n",
        "        reg_max=16\n",
        "    ),\n",
        "    \"valid_metrics_list\": [\n",
        "        DetectionMetrics_050(\n",
        "            score_thres=0.1,\n",
        "            top_k_predictions=300,\n",
        "            num_cls=len(dataset_params['classes']),\n",
        "            normalize_targets=True,\n",
        "            post_prediction_callback=PPYoloEPostPredictionCallback(\n",
        "                score_threshold=0.01,\n",
        "                nms_top_k=1000,\n",
        "                max_predictions=300,\n",
        "                nms_threshold=0.7\n",
        "            )\n",
        "        )\n",
        "    ],\n",
        "    \"metric_to_watch\": 'mAP@0.50'\n",
        "}"
      ],
      "metadata": {
        "id": "9zwM8lqxyjbm"
      },
      "execution_count": null,
      "outputs": []
    },
    {
      "cell_type": "markdown",
      "source": [
        "### Train the model"
      ],
      "metadata": {
        "id": "yHKsBDTlPk1d"
      }
    },
    {
      "cell_type": "code",
      "source": [
        "trainer.train(\n",
        "    model=model,\n",
        "    training_params=train_params,\n",
        "    train_loader=train_data,\n",
        "    valid_loader=val_data\n",
        ")"
      ],
      "metadata": {
        "id": "1mz05df_yx9b",
        "outputId": "0cbae1b7-af1d-4364-c3c8-14d4411d2068",
        "colab": {
          "base_uri": "https://localhost:8080/"
        }
      },
      "execution_count": null,
      "outputs": [
        {
          "metadata": {
            "tags": null
          },
          "name": "stderr",
          "output_type": "stream",
          "text": [
            "[2023-06-25 13:37:53] INFO - sg_trainer.py - Using EMA with params {'decay': 0.9, 'decay_type': 'threshold'}\n",
            "[2023-06-25 13:37:58] INFO - utils.py - NumExpr defaulting to 2 threads.\n"
          ]
        },
        {
          "metadata": {
            "tags": null
          },
          "name": "stdout",
          "output_type": "stream",
          "text": [
            "The console stream is now moved to /content/checkpoints/coin_detector_and_counter/console_Jun25_13_37_58.txt\n"
          ]
        },
        {
          "metadata": {
            "tags": null
          },
          "name": "stderr",
          "output_type": "stream",
          "text": [
            "[2023-06-25 13:38:04] INFO - sg_trainer_utils.py - TRAINING PARAMETERS:\n",
            "    - Mode:                         Single GPU\n",
            "    - Number of GPUs:               1          (1 available on the machine)\n",
            "    - Dataset size:                 2379       (len(train_set))\n",
            "    - Batch size per GPU:           8          (batch_size)\n",
            "    - Batch Accumulate:             1          (batch_accumulate)\n",
            "    - Total batch size:             8          (num_gpus * batch_size)\n",
            "    - Effective Batch size:         8          (num_gpus * batch_size * batch_accumulate)\n",
            "    - Iterations per epoch:         297        (len(train_loader))\n",
            "    - Gradient updates per epoch:   297        (len(train_loader) / batch_accumulate)\n",
            "\n",
            "[2023-06-25 13:38:04] INFO - sg_trainer.py - Started training for 15 epochs (0/14)\n",
            "\n",
            "Train epoch 0: 100%|██████████| 297/297 [03:28<00:00,  1.42it/s, PPYoloELoss/loss=4.07, PPYoloELoss/loss_cls=2.73, PPYoloELoss/loss_dfl=1.5, PPYoloELoss/loss_iou=0.233, gpu_mem=3.12]\n",
            "Validation epoch 0: 100%|██████████| 29/29 [00:05<00:00,  5.53it/s]\n"
          ]
        },
        {
          "metadata": {
            "tags": null
          },
          "name": "stdout",
          "output_type": "stream",
          "text": [
            "===========================================================\n",
            "SUMMARY OF EPOCH 0\n",
            "├── Training\n",
            "│   ├── Ppyoloeloss/loss = 4.0676\n",
            "│   ├── Ppyoloeloss/loss_cls = 2.733\n",
            "│   ├── Ppyoloeloss/loss_dfl = 1.5042\n",
            "│   └── Ppyoloeloss/loss_iou = 0.233\n",
            "└── Validation\n",
            "    ├── F1@0.50 = 0.0009\n",
            "    ├── Map@0.50 = 0.0073\n",
            "    ├── Ppyoloeloss/loss = 3.4611\n",
            "    ├── Ppyoloeloss/loss_cls = 2.7857\n",
            "    ├── Ppyoloeloss/loss_dfl = 0.8939\n",
            "    ├── Ppyoloeloss/loss_iou = 0.0914\n",
            "    ├── Precision@0.50 = 0.0005\n",
            "    └── Recall@0.50 = 0.027\n",
            "\n",
            "===========================================================\n"
          ]
        },
        {
          "metadata": {
            "tags": null
          },
          "name": "stderr",
          "output_type": "stream",
          "text": [
            "[2023-06-25 13:41:39] INFO - base_sg_logger.py - Checkpoint saved in /content/checkpoints/coin_detector_and_counter/ckpt_best.pth\n",
            "[2023-06-25 13:41:39] INFO - sg_trainer.py - Best checkpoint overriden: validation mAP@0.50: 0.007330538239330053\n",
            "Train epoch 1: 100%|██████████| 297/297 [03:18<00:00,  1.50it/s, PPYoloELoss/loss=2.34, PPYoloELoss/loss_cls=1.33, PPYoloELoss/loss_dfl=1.16, PPYoloELoss/loss_iou=0.172, gpu_mem=3.75]\n",
            "Validation epoch 1: 100%|██████████| 29/29 [00:05<00:00,  5.55it/s]\n"
          ]
        },
        {
          "metadata": {
            "tags": null
          },
          "name": "stdout",
          "output_type": "stream",
          "text": [
            "===========================================================\n",
            "SUMMARY OF EPOCH 1\n",
            "├── Training\n",
            "│   ├── Ppyoloeloss/loss = 2.3428\n",
            "│   │   ├── Best until now = 4.0676 (\u001b[32m↘ -1.7248\u001b[0m)\n",
            "│   │   └── Epoch N-1      = 4.0676 (\u001b[32m↘ -1.7248\u001b[0m)\n",
            "│   ├── Ppyoloeloss/loss_cls = 1.3315\n",
            "│   │   ├── Best until now = 2.733  (\u001b[32m↘ -1.4014\u001b[0m)\n",
            "│   │   └── Epoch N-1      = 2.733  (\u001b[32m↘ -1.4014\u001b[0m)\n",
            "│   ├── Ppyoloeloss/loss_dfl = 1.1634\n",
            "│   │   ├── Best until now = 1.5042 (\u001b[32m↘ -0.3408\u001b[0m)\n",
            "│   │   └── Epoch N-1      = 1.5042 (\u001b[32m↘ -0.3408\u001b[0m)\n",
            "│   └── Ppyoloeloss/loss_iou = 0.1718\n",
            "│       ├── Best until now = 0.233  (\u001b[32m↘ -0.0612\u001b[0m)\n",
            "│       └── Epoch N-1      = 0.233  (\u001b[32m↘ -0.0612\u001b[0m)\n",
            "└── Validation\n",
            "    ├── F1@0.50 = 0.0839\n",
            "    │   ├── Best until now = 0.0009 (\u001b[32m↗ 0.083\u001b[0m)\n",
            "    │   └── Epoch N-1      = 0.0009 (\u001b[32m↗ 0.083\u001b[0m)\n",
            "    ├── Map@0.50 = 0.3045\n",
            "    │   ├── Best until now = 0.0073 (\u001b[32m↗ 0.2972\u001b[0m)\n",
            "    │   └── Epoch N-1      = 0.0073 (\u001b[32m↗ 0.2972\u001b[0m)\n",
            "    ├── Ppyoloeloss/loss = 1.7504\n",
            "    │   ├── Best until now = 3.4611 (\u001b[32m↘ -1.7108\u001b[0m)\n",
            "    │   └── Epoch N-1      = 3.4611 (\u001b[32m↘ -1.7108\u001b[0m)\n",
            "    ├── Ppyoloeloss/loss_cls = 1.0984\n",
            "    │   ├── Best until now = 2.7857 (\u001b[32m↘ -1.6873\u001b[0m)\n",
            "    │   └── Epoch N-1      = 2.7857 (\u001b[32m↘ -1.6873\u001b[0m)\n",
            "    ├── Ppyoloeloss/loss_dfl = 0.8462\n",
            "    │   ├── Best until now = 0.8939 (\u001b[32m↘ -0.0477\u001b[0m)\n",
            "    │   └── Epoch N-1      = 0.8939 (\u001b[32m↘ -0.0477\u001b[0m)\n",
            "    ├── Ppyoloeloss/loss_iou = 0.0916\n",
            "    │   ├── Best until now = 0.0914 (\u001b[31m↗ 0.0002\u001b[0m)\n",
            "    │   └── Epoch N-1      = 0.0914 (\u001b[31m↗ 0.0002\u001b[0m)\n",
            "    ├── Precision@0.50 = 0.0441\n",
            "    │   ├── Best until now = 0.0005 (\u001b[32m↗ 0.0436\u001b[0m)\n",
            "    │   └── Epoch N-1      = 0.0005 (\u001b[32m↗ 0.0436\u001b[0m)\n",
            "    └── Recall@0.50 = 1.0\n",
            "        ├── Best until now = 0.027  (\u001b[32m↗ 0.973\u001b[0m)\n",
            "        └── Epoch N-1      = 0.027  (\u001b[32m↗ 0.973\u001b[0m)\n",
            "\n",
            "===========================================================\n"
          ]
        },
        {
          "metadata": {
            "tags": null
          },
          "name": "stderr",
          "output_type": "stream",
          "text": [
            "[2023-06-25 13:45:09] INFO - base_sg_logger.py - Checkpoint saved in /content/checkpoints/coin_detector_and_counter/ckpt_best.pth\n",
            "[2023-06-25 13:45:09] INFO - sg_trainer.py - Best checkpoint overriden: validation mAP@0.50: 0.30454033613204956\n",
            "Train epoch 2: 100%|██████████| 297/297 [03:17<00:00,  1.50it/s, PPYoloELoss/loss=2.14, PPYoloELoss/loss_cls=1.22, PPYoloELoss/loss_dfl=1.08, PPYoloELoss/loss_iou=0.154, gpu_mem=3.75]\n",
            "Validation epoch 2: 100%|██████████| 29/29 [00:05<00:00,  5.56it/s]\n"
          ]
        },
        {
          "metadata": {
            "tags": null
          },
          "name": "stdout",
          "output_type": "stream",
          "text": [
            "===========================================================\n",
            "SUMMARY OF EPOCH 2\n",
            "├── Training\n",
            "│   ├── Ppyoloeloss/loss = 2.1438\n",
            "│   │   ├── Best until now = 2.3428 (\u001b[32m↘ -0.199\u001b[0m)\n",
            "│   │   └── Epoch N-1      = 2.3428 (\u001b[32m↘ -0.199\u001b[0m)\n",
            "│   ├── Ppyoloeloss/loss_cls = 1.2157\n",
            "│   │   ├── Best until now = 1.3315 (\u001b[32m↘ -0.1158\u001b[0m)\n",
            "│   │   └── Epoch N-1      = 1.3315 (\u001b[32m↘ -0.1158\u001b[0m)\n",
            "│   ├── Ppyoloeloss/loss_dfl = 1.0842\n",
            "│   │   ├── Best until now = 1.1634 (\u001b[32m↘ -0.0792\u001b[0m)\n",
            "│   │   └── Epoch N-1      = 1.1634 (\u001b[32m↘ -0.0792\u001b[0m)\n",
            "│   └── Ppyoloeloss/loss_iou = 0.1544\n",
            "│       ├── Best until now = 0.1718 (\u001b[32m↘ -0.0174\u001b[0m)\n",
            "│       └── Epoch N-1      = 0.1718 (\u001b[32m↘ -0.0174\u001b[0m)\n",
            "└── Validation\n",
            "    ├── F1@0.50 = 0.0401\n",
            "    │   ├── Best until now = 0.0839 (\u001b[31m↘ -0.0438\u001b[0m)\n",
            "    │   └── Epoch N-1      = 0.0839 (\u001b[31m↘ -0.0438\u001b[0m)\n",
            "    ├── Map@0.50 = 0.4552\n",
            "    │   ├── Best until now = 0.3045 (\u001b[32m↗ 0.1506\u001b[0m)\n",
            "    │   └── Epoch N-1      = 0.3045 (\u001b[32m↗ 0.1506\u001b[0m)\n",
            "    ├── Ppyoloeloss/loss = 1.7884\n",
            "    │   ├── Best until now = 1.7504 (\u001b[31m↗ 0.0381\u001b[0m)\n",
            "    │   └── Epoch N-1      = 1.7504 (\u001b[31m↗ 0.0381\u001b[0m)\n",
            "    ├── Ppyoloeloss/loss_cls = 1.1308\n",
            "    │   ├── Best until now = 1.0984 (\u001b[31m↗ 0.0324\u001b[0m)\n",
            "    │   └── Epoch N-1      = 1.0984 (\u001b[31m↗ 0.0324\u001b[0m)\n",
            "    ├── Ppyoloeloss/loss_dfl = 0.8511\n",
            "    │   ├── Best until now = 0.8462 (\u001b[31m↗ 0.0049\u001b[0m)\n",
            "    │   └── Epoch N-1      = 0.8462 (\u001b[31m↗ 0.0049\u001b[0m)\n",
            "    ├── Ppyoloeloss/loss_iou = 0.0928\n",
            "    │   ├── Best until now = 0.0914 (\u001b[31m↗ 0.0015\u001b[0m)\n",
            "    │   └── Epoch N-1      = 0.0916 (\u001b[31m↗ 0.0013\u001b[0m)\n",
            "    ├── Precision@0.50 = 0.0205\n",
            "    │   ├── Best until now = 0.0441 (\u001b[31m↘ -0.0236\u001b[0m)\n",
            "    │   └── Epoch N-1      = 0.0441 (\u001b[31m↘ -0.0236\u001b[0m)\n",
            "    └── Recall@0.50 = 1.0\n",
            "        ├── Best until now = 1.0    (\u001b[37m= 0.0\u001b[0m)\n",
            "        └── Epoch N-1      = 1.0    (\u001b[37m= 0.0\u001b[0m)\n",
            "\n",
            "===========================================================\n"
          ]
        },
        {
          "metadata": {
            "tags": null
          },
          "name": "stderr",
          "output_type": "stream",
          "text": [
            "[2023-06-25 13:48:40] INFO - base_sg_logger.py - Checkpoint saved in /content/checkpoints/coin_detector_and_counter/ckpt_best.pth\n",
            "[2023-06-25 13:48:40] INFO - sg_trainer.py - Best checkpoint overriden: validation mAP@0.50: 0.4551604390144348\n",
            "Train epoch 3: 100%|██████████| 297/297 [03:17<00:00,  1.50it/s, PPYoloELoss/loss=2.08, PPYoloELoss/loss_cls=1.18, PPYoloELoss/loss_dfl=1.07, PPYoloELoss/loss_iou=0.149, gpu_mem=3.75]\n",
            "Validation epoch 3: 100%|██████████| 29/29 [00:05<00:00,  5.51it/s]\n"
          ]
        },
        {
          "metadata": {
            "tags": null
          },
          "name": "stdout",
          "output_type": "stream",
          "text": [
            "===========================================================\n",
            "SUMMARY OF EPOCH 3\n",
            "├── Training\n",
            "│   ├── Ppyoloeloss/loss = 2.0839\n",
            "│   │   ├── Best until now = 2.1438 (\u001b[32m↘ -0.0599\u001b[0m)\n",
            "│   │   └── Epoch N-1      = 2.1438 (\u001b[32m↘ -0.0599\u001b[0m)\n",
            "│   ├── Ppyoloeloss/loss_cls = 1.1778\n",
            "│   │   ├── Best until now = 1.2157 (\u001b[32m↘ -0.038\u001b[0m)\n",
            "│   │   └── Epoch N-1      = 1.2157 (\u001b[32m↘ -0.038\u001b[0m)\n",
            "│   ├── Ppyoloeloss/loss_dfl = 1.0653\n",
            "│   │   ├── Best until now = 1.0842 (\u001b[32m↘ -0.0189\u001b[0m)\n",
            "│   │   └── Epoch N-1      = 1.0842 (\u001b[32m↘ -0.0189\u001b[0m)\n",
            "│   └── Ppyoloeloss/loss_iou = 0.1494\n",
            "│       ├── Best until now = 0.1544 (\u001b[32m↘ -0.005\u001b[0m)\n",
            "│       └── Epoch N-1      = 0.1544 (\u001b[32m↘ -0.005\u001b[0m)\n",
            "└── Validation\n",
            "    ├── F1@0.50 = 0.0719\n",
            "    │   ├── Best until now = 0.0839 (\u001b[31m↘ -0.012\u001b[0m)\n",
            "    │   └── Epoch N-1      = 0.0401 (\u001b[32m↗ 0.0318\u001b[0m)\n",
            "    ├── Map@0.50 = 0.5296\n",
            "    │   ├── Best until now = 0.4552 (\u001b[32m↗ 0.0744\u001b[0m)\n",
            "    │   └── Epoch N-1      = 0.4552 (\u001b[32m↗ 0.0744\u001b[0m)\n",
            "    ├── Ppyoloeloss/loss = 1.6888\n",
            "    │   ├── Best until now = 1.7504 (\u001b[32m↘ -0.0616\u001b[0m)\n",
            "    │   └── Epoch N-1      = 1.7884 (\u001b[32m↘ -0.0997\u001b[0m)\n",
            "    ├── Ppyoloeloss/loss_cls = 1.0414\n",
            "    │   ├── Best until now = 1.0984 (\u001b[32m↘ -0.057\u001b[0m)\n",
            "    │   └── Epoch N-1      = 1.1308 (\u001b[32m↘ -0.0893\u001b[0m)\n",
            "    ├── Ppyoloeloss/loss_dfl = 0.8359\n",
            "    │   ├── Best until now = 0.8462 (\u001b[32m↘ -0.0103\u001b[0m)\n",
            "    │   └── Epoch N-1      = 0.8511 (\u001b[32m↘ -0.0152\u001b[0m)\n",
            "    ├── Ppyoloeloss/loss_iou = 0.0918\n",
            "    │   ├── Best until now = 0.0914 (\u001b[31m↗ 0.0004\u001b[0m)\n",
            "    │   └── Epoch N-1      = 0.0928 (\u001b[32m↘ -0.0011\u001b[0m)\n",
            "    ├── Precision@0.50 = 0.0376\n",
            "    │   ├── Best until now = 0.0441 (\u001b[31m↘ -0.0065\u001b[0m)\n",
            "    │   └── Epoch N-1      = 0.0205 (\u001b[32m↗ 0.0171\u001b[0m)\n",
            "    └── Recall@0.50 = 1.0\n",
            "        ├── Best until now = 1.0    (\u001b[37m= 0.0\u001b[0m)\n",
            "        └── Epoch N-1      = 1.0    (\u001b[37m= 0.0\u001b[0m)\n",
            "\n",
            "===========================================================\n"
          ]
        },
        {
          "metadata": {
            "tags": null
          },
          "name": "stderr",
          "output_type": "stream",
          "text": [
            "[2023-06-25 13:52:07] INFO - base_sg_logger.py - Checkpoint saved in /content/checkpoints/coin_detector_and_counter/ckpt_best.pth\n",
            "[2023-06-25 13:52:07] INFO - sg_trainer.py - Best checkpoint overriden: validation mAP@0.50: 0.5295501351356506\n",
            "Train epoch 4: 100%|██████████| 297/297 [03:16<00:00,  1.51it/s, PPYoloELoss/loss=2, PPYoloELoss/loss_cls=1.14, PPYoloELoss/loss_dfl=1.03, PPYoloELoss/loss_iou=0.142, gpu_mem=3.75]\n",
            "Validation epoch 4: 100%|██████████| 29/29 [00:07<00:00,  4.14it/s]\n"
          ]
        },
        {
          "metadata": {
            "tags": null
          },
          "name": "stdout",
          "output_type": "stream",
          "text": [
            "===========================================================\n",
            "SUMMARY OF EPOCH 4\n",
            "├── Training\n",
            "│   ├── Ppyoloeloss/loss = 2.0027\n",
            "│   │   ├── Best until now = 2.0839 (\u001b[32m↘ -0.0813\u001b[0m)\n",
            "│   │   └── Epoch N-1      = 2.0839 (\u001b[32m↘ -0.0813\u001b[0m)\n",
            "│   ├── Ppyoloeloss/loss_cls = 1.1354\n",
            "│   │   ├── Best until now = 1.1778 (\u001b[32m↘ -0.0424\u001b[0m)\n",
            "│   │   └── Epoch N-1      = 1.1778 (\u001b[32m↘ -0.0424\u001b[0m)\n",
            "│   ├── Ppyoloeloss/loss_dfl = 1.0258\n",
            "│   │   ├── Best until now = 1.0653 (\u001b[32m↘ -0.0394\u001b[0m)\n",
            "│   │   └── Epoch N-1      = 1.0653 (\u001b[32m↘ -0.0394\u001b[0m)\n",
            "│   └── Ppyoloeloss/loss_iou = 0.1417\n",
            "│       ├── Best until now = 0.1494 (\u001b[32m↘ -0.0077\u001b[0m)\n",
            "│       └── Epoch N-1      = 0.1494 (\u001b[32m↘ -0.0077\u001b[0m)\n",
            "└── Validation\n",
            "    ├── F1@0.50 = 0.0433\n",
            "    │   ├── Best until now = 0.0839 (\u001b[31m↘ -0.0406\u001b[0m)\n",
            "    │   └── Epoch N-1      = 0.0719 (\u001b[31m↘ -0.0286\u001b[0m)\n",
            "    ├── Map@0.50 = 0.5591\n",
            "    │   ├── Best until now = 0.5296 (\u001b[32m↗ 0.0295\u001b[0m)\n",
            "    │   └── Epoch N-1      = 0.5296 (\u001b[32m↗ 0.0295\u001b[0m)\n",
            "    ├── Ppyoloeloss/loss = 1.6632\n",
            "    │   ├── Best until now = 1.6888 (\u001b[32m↘ -0.0256\u001b[0m)\n",
            "    │   └── Epoch N-1      = 1.6888 (\u001b[32m↘ -0.0256\u001b[0m)\n",
            "    ├── Ppyoloeloss/loss_cls = 1.0518\n",
            "    │   ├── Best until now = 1.0414 (\u001b[31m↗ 0.0104\u001b[0m)\n",
            "    │   └── Epoch N-1      = 1.0414 (\u001b[31m↗ 0.0104\u001b[0m)\n",
            "    ├── Ppyoloeloss/loss_dfl = 0.8011\n",
            "    │   ├── Best until now = 0.8359 (\u001b[32m↘ -0.0348\u001b[0m)\n",
            "    │   └── Epoch N-1      = 0.8359 (\u001b[32m↘ -0.0348\u001b[0m)\n",
            "    ├── Ppyoloeloss/loss_iou = 0.0843\n",
            "    │   ├── Best until now = 0.0914 (\u001b[32m↘ -0.0071\u001b[0m)\n",
            "    │   └── Epoch N-1      = 0.0918 (\u001b[32m↘ -0.0074\u001b[0m)\n",
            "    ├── Precision@0.50 = 0.0222\n",
            "    │   ├── Best until now = 0.0441 (\u001b[31m↘ -0.0219\u001b[0m)\n",
            "    │   └── Epoch N-1      = 0.0376 (\u001b[31m↘ -0.0154\u001b[0m)\n",
            "    └── Recall@0.50 = 1.0\n",
            "        ├── Best until now = 1.0    (\u001b[37m= 0.0\u001b[0m)\n",
            "        └── Epoch N-1      = 1.0    (\u001b[37m= 0.0\u001b[0m)\n",
            "\n",
            "===========================================================\n"
          ]
        },
        {
          "metadata": {
            "tags": null
          },
          "name": "stderr",
          "output_type": "stream",
          "text": [
            "[2023-06-25 13:55:50] INFO - base_sg_logger.py - Checkpoint saved in /content/checkpoints/coin_detector_and_counter/ckpt_best.pth\n",
            "[2023-06-25 13:55:50] INFO - sg_trainer.py - Best checkpoint overriden: validation mAP@0.50: 0.5590639710426331\n",
            "Train epoch 5: 100%|██████████| 297/297 [03:10<00:00,  1.56it/s, PPYoloELoss/loss=1.95, PPYoloELoss/loss_cls=1.11, PPYoloELoss/loss_dfl=1.01, PPYoloELoss/loss_iou=0.137, gpu_mem=3.75]\n",
            "Validation epoch 5: 100%|██████████| 29/29 [00:05<00:00,  5.52it/s]\n"
          ]
        },
        {
          "metadata": {
            "tags": null
          },
          "name": "stdout",
          "output_type": "stream",
          "text": [
            "===========================================================\n",
            "SUMMARY OF EPOCH 5\n",
            "├── Training\n",
            "│   ├── Ppyoloeloss/loss = 1.9534\n",
            "│   │   ├── Best until now = 2.0027 (\u001b[32m↘ -0.0493\u001b[0m)\n",
            "│   │   └── Epoch N-1      = 2.0027 (\u001b[32m↘ -0.0493\u001b[0m)\n",
            "│   ├── Ppyoloeloss/loss_cls = 1.1083\n",
            "│   │   ├── Best until now = 1.1354 (\u001b[32m↘ -0.0271\u001b[0m)\n",
            "│   │   └── Epoch N-1      = 1.1354 (\u001b[32m↘ -0.0271\u001b[0m)\n",
            "│   ├── Ppyoloeloss/loss_dfl = 1.006\n",
            "│   │   ├── Best until now = 1.0258 (\u001b[32m↘ -0.0199\u001b[0m)\n",
            "│   │   └── Epoch N-1      = 1.0258 (\u001b[32m↘ -0.0199\u001b[0m)\n",
            "│   └── Ppyoloeloss/loss_iou = 0.1368\n",
            "│       ├── Best until now = 0.1417 (\u001b[32m↘ -0.0049\u001b[0m)\n",
            "│       └── Epoch N-1      = 0.1417 (\u001b[32m↘ -0.0049\u001b[0m)\n",
            "└── Validation\n",
            "    ├── F1@0.50 = 0.0662\n",
            "    │   ├── Best until now = 0.0839 (\u001b[31m↘ -0.0177\u001b[0m)\n",
            "    │   └── Epoch N-1      = 0.0433 (\u001b[32m↗ 0.0229\u001b[0m)\n",
            "    ├── Map@0.50 = 0.5704\n",
            "    │   ├── Best until now = 0.5591 (\u001b[32m↗ 0.0113\u001b[0m)\n",
            "    │   └── Epoch N-1      = 0.5591 (\u001b[32m↗ 0.0113\u001b[0m)\n",
            "    ├── Ppyoloeloss/loss = 1.6142\n",
            "    │   ├── Best until now = 1.6632 (\u001b[32m↘ -0.049\u001b[0m)\n",
            "    │   └── Epoch N-1      = 1.6632 (\u001b[32m↘ -0.049\u001b[0m)\n",
            "    ├── Ppyoloeloss/loss_cls = 0.9916\n",
            "    │   ├── Best until now = 1.0414 (\u001b[32m↘ -0.0498\u001b[0m)\n",
            "    │   └── Epoch N-1      = 1.0518 (\u001b[32m↘ -0.0601\u001b[0m)\n",
            "    ├── Ppyoloeloss/loss_dfl = 0.8098\n",
            "    │   ├── Best until now = 0.8011 (\u001b[31m↗ 0.0086\u001b[0m)\n",
            "    │   └── Epoch N-1      = 0.8011 (\u001b[31m↗ 0.0086\u001b[0m)\n",
            "    ├── Ppyoloeloss/loss_iou = 0.0871\n",
            "    │   ├── Best until now = 0.0843 (\u001b[31m↗ 0.0027\u001b[0m)\n",
            "    │   └── Epoch N-1      = 0.0843 (\u001b[31m↗ 0.0027\u001b[0m)\n",
            "    ├── Precision@0.50 = 0.0343\n",
            "    │   ├── Best until now = 0.0441 (\u001b[31m↘ -0.0098\u001b[0m)\n",
            "    │   └── Epoch N-1      = 0.0222 (\u001b[32m↗ 0.0121\u001b[0m)\n",
            "    └── Recall@0.50 = 0.9914\n",
            "        ├── Best until now = 1.0    (\u001b[31m↘ -0.0086\u001b[0m)\n",
            "        └── Epoch N-1      = 1.0    (\u001b[31m↘ -0.0086\u001b[0m)\n",
            "\n",
            "===========================================================\n"
          ]
        },
        {
          "metadata": {
            "tags": null
          },
          "name": "stderr",
          "output_type": "stream",
          "text": [
            "[2023-06-25 13:59:21] INFO - base_sg_logger.py - Checkpoint saved in /content/checkpoints/coin_detector_and_counter/ckpt_best.pth\n",
            "[2023-06-25 13:59:21] INFO - sg_trainer.py - Best checkpoint overriden: validation mAP@0.50: 0.570371150970459\n",
            "Train epoch 6: 100%|██████████| 297/297 [03:12<00:00,  1.54it/s, PPYoloELoss/loss=1.9, PPYoloELoss/loss_cls=1.08, PPYoloELoss/loss_dfl=0.977, PPYoloELoss/loss_iou=0.132, gpu_mem=3.75]\n",
            "Validation epoch 6: 100%|██████████| 29/29 [00:05<00:00,  5.61it/s]\n"
          ]
        },
        {
          "metadata": {
            "tags": null
          },
          "name": "stdout",
          "output_type": "stream",
          "text": [
            "===========================================================\n",
            "SUMMARY OF EPOCH 6\n",
            "├── Training\n",
            "│   ├── Ppyoloeloss/loss = 1.9013\n",
            "│   │   ├── Best until now = 1.9534 (\u001b[32m↘ -0.052\u001b[0m)\n",
            "│   │   └── Epoch N-1      = 1.9534 (\u001b[32m↘ -0.052\u001b[0m)\n",
            "│   ├── Ppyoloeloss/loss_cls = 1.082\n",
            "│   │   ├── Best until now = 1.1083 (\u001b[32m↘ -0.0263\u001b[0m)\n",
            "│   │   └── Epoch N-1      = 1.1083 (\u001b[32m↘ -0.0263\u001b[0m)\n",
            "│   ├── Ppyoloeloss/loss_dfl = 0.9768\n",
            "│   │   ├── Best until now = 1.006  (\u001b[32m↘ -0.0292\u001b[0m)\n",
            "│   │   └── Epoch N-1      = 1.006  (\u001b[32m↘ -0.0292\u001b[0m)\n",
            "│   └── Ppyoloeloss/loss_iou = 0.1324\n",
            "│       ├── Best until now = 0.1368 (\u001b[32m↘ -0.0045\u001b[0m)\n",
            "│       └── Epoch N-1      = 0.1368 (\u001b[32m↘ -0.0045\u001b[0m)\n",
            "└── Validation\n",
            "    ├── F1@0.50 = 0.0653\n",
            "    │   ├── Best until now = 0.0839 (\u001b[31m↘ -0.0186\u001b[0m)\n",
            "    │   └── Epoch N-1      = 0.0662 (\u001b[31m↘ -0.0008\u001b[0m)\n",
            "    ├── Map@0.50 = 0.6166\n",
            "    │   ├── Best until now = 0.5704 (\u001b[32m↗ 0.0462\u001b[0m)\n",
            "    │   └── Epoch N-1      = 0.5704 (\u001b[32m↗ 0.0462\u001b[0m)\n",
            "    ├── Ppyoloeloss/loss = 1.6168\n",
            "    │   ├── Best until now = 1.6142 (\u001b[31m↗ 0.0026\u001b[0m)\n",
            "    │   └── Epoch N-1      = 1.6142 (\u001b[31m↗ 0.0026\u001b[0m)\n",
            "    ├── Ppyoloeloss/loss_cls = 0.9789\n",
            "    │   ├── Best until now = 0.9916 (\u001b[32m↘ -0.0128\u001b[0m)\n",
            "    │   └── Epoch N-1      = 0.9916 (\u001b[32m↘ -0.0128\u001b[0m)\n",
            "    ├── Ppyoloeloss/loss_dfl = 0.8211\n",
            "    │   ├── Best until now = 0.8011 (\u001b[31m↗ 0.02\u001b[0m)\n",
            "    │   └── Epoch N-1      = 0.8098 (\u001b[31m↗ 0.0113\u001b[0m)\n",
            "    ├── Ppyoloeloss/loss_iou = 0.091\n",
            "    │   ├── Best until now = 0.0843 (\u001b[31m↗ 0.0066\u001b[0m)\n",
            "    │   └── Epoch N-1      = 0.0871 (\u001b[31m↗ 0.0039\u001b[0m)\n",
            "    ├── Precision@0.50 = 0.0339\n",
            "    │   ├── Best until now = 0.0441 (\u001b[31m↘ -0.0102\u001b[0m)\n",
            "    │   └── Epoch N-1      = 0.0343 (\u001b[31m↘ -0.0004\u001b[0m)\n",
            "    └── Recall@0.50 = 1.0\n",
            "        ├── Best until now = 1.0    (\u001b[37m= 0.0\u001b[0m)\n",
            "        └── Epoch N-1      = 0.9914 (\u001b[32m↗ 0.0086\u001b[0m)\n",
            "\n",
            "===========================================================\n"
          ]
        },
        {
          "output_type": "stream",
          "name": "stderr",
          "text": [
            "[2023-06-25 14:02:55] INFO - base_sg_logger.py - Checkpoint saved in /content/checkpoints/coin_detector_and_counter/ckpt_best.pth\n",
            "[2023-06-25 14:02:55] INFO - sg_trainer.py - Best checkpoint overriden: validation mAP@0.50: 0.6165951490402222\n",
            "Train epoch 7: 100%|██████████| 297/297 [03:15<00:00,  1.52it/s, PPYoloELoss/loss=1.87, PPYoloELoss/loss_cls=1.07, PPYoloELoss/loss_dfl=0.967, PPYoloELoss/loss_iou=0.13, gpu_mem=3.75]\n",
            "Validation epoch 7: 100%|██████████| 29/29 [00:05<00:00,  5.56it/s]\n"
          ]
        },
        {
          "output_type": "stream",
          "name": "stdout",
          "text": [
            "===========================================================\n",
            "SUMMARY OF EPOCH 7\n",
            "├── Training\n",
            "│   ├── Ppyoloeloss/loss = 1.8741\n",
            "│   │   ├── Best until now = 1.9013 (\u001b[32m↘ -0.0272\u001b[0m)\n",
            "│   │   └── Epoch N-1      = 1.9013 (\u001b[32m↘ -0.0272\u001b[0m)\n",
            "│   ├── Ppyoloeloss/loss_cls = 1.0651\n",
            "│   │   ├── Best until now = 1.082  (\u001b[32m↘ -0.0168\u001b[0m)\n",
            "│   │   └── Epoch N-1      = 1.082  (\u001b[32m↘ -0.0168\u001b[0m)\n",
            "│   ├── Ppyoloeloss/loss_dfl = 0.9665\n",
            "│   │   ├── Best until now = 0.9768 (\u001b[32m↘ -0.0103\u001b[0m)\n",
            "│   │   └── Epoch N-1      = 0.9768 (\u001b[32m↘ -0.0103\u001b[0m)\n",
            "│   └── Ppyoloeloss/loss_iou = 0.1303\n",
            "│       ├── Best until now = 0.1324 (\u001b[32m↘ -0.0021\u001b[0m)\n",
            "│       └── Epoch N-1      = 0.1324 (\u001b[32m↘ -0.0021\u001b[0m)\n",
            "└── Validation\n",
            "    ├── F1@0.50 = 0.0584\n",
            "    │   ├── Best until now = 0.0839 (\u001b[31m↘ -0.0255\u001b[0m)\n",
            "    │   └── Epoch N-1      = 0.0653 (\u001b[31m↘ -0.0069\u001b[0m)\n",
            "    ├── Map@0.50 = 0.6822\n",
            "    │   ├── Best until now = 0.6166 (\u001b[32m↗ 0.0656\u001b[0m)\n",
            "    │   └── Epoch N-1      = 0.6166 (\u001b[32m↗ 0.0656\u001b[0m)\n",
            "    ├── Ppyoloeloss/loss = 1.6207\n",
            "    │   ├── Best until now = 1.6142 (\u001b[31m↗ 0.0065\u001b[0m)\n",
            "    │   └── Epoch N-1      = 1.6168 (\u001b[31m↗ 0.0039\u001b[0m)\n",
            "    ├── Ppyoloeloss/loss_cls = 0.9773\n",
            "    │   ├── Best until now = 0.9789 (\u001b[32m↘ -0.0016\u001b[0m)\n",
            "    │   └── Epoch N-1      = 0.9789 (\u001b[32m↘ -0.0016\u001b[0m)\n",
            "    ├── Ppyoloeloss/loss_dfl = 0.8313\n",
            "    │   ├── Best until now = 0.8011 (\u001b[31m↗ 0.0301\u001b[0m)\n",
            "    │   └── Epoch N-1      = 0.8211 (\u001b[31m↗ 0.0102\u001b[0m)\n",
            "    ├── Ppyoloeloss/loss_iou = 0.0911\n",
            "    │   ├── Best until now = 0.0843 (\u001b[31m↗ 0.0068\u001b[0m)\n",
            "    │   └── Epoch N-1      = 0.091  (\u001b[31m↗ 1e-04\u001b[0m)\n",
            "    ├── Precision@0.50 = 0.0302\n",
            "    │   ├── Best until now = 0.0441 (\u001b[31m↘ -0.0139\u001b[0m)\n",
            "    │   └── Epoch N-1      = 0.0339 (\u001b[31m↘ -0.0037\u001b[0m)\n",
            "    └── Recall@0.50 = 1.0\n",
            "        ├── Best until now = 1.0    (\u001b[37m= 0.0\u001b[0m)\n",
            "        └── Epoch N-1      = 1.0    (\u001b[37m= 0.0\u001b[0m)\n",
            "\n",
            "===========================================================\n"
          ]
        },
        {
          "output_type": "stream",
          "name": "stderr",
          "text": [
            "[2023-06-25 14:06:27] INFO - base_sg_logger.py - Checkpoint saved in /content/checkpoints/coin_detector_and_counter/ckpt_best.pth\n",
            "[2023-06-25 14:06:27] INFO - sg_trainer.py - Best checkpoint overriden: validation mAP@0.50: 0.6821742057800293\n",
            "Train epoch 8: 100%|██████████| 297/297 [03:15<00:00,  1.52it/s, PPYoloELoss/loss=1.84, PPYoloELoss/loss_cls=1.05, PPYoloELoss/loss_dfl=0.951, PPYoloELoss/loss_iou=0.125, gpu_mem=3.75]\n",
            "Validation epoch 8: 100%|██████████| 29/29 [00:05<00:00,  5.16it/s]\n"
          ]
        },
        {
          "output_type": "stream",
          "name": "stdout",
          "text": [
            "===========================================================\n",
            "SUMMARY OF EPOCH 8\n",
            "├── Training\n",
            "│   ├── Ppyoloeloss/loss = 1.84\n",
            "│   │   ├── Best until now = 1.8741 (\u001b[32m↘ -0.0342\u001b[0m)\n",
            "│   │   └── Epoch N-1      = 1.8741 (\u001b[32m↘ -0.0342\u001b[0m)\n",
            "│   ├── Ppyoloeloss/loss_cls = 1.0511\n",
            "│   │   ├── Best until now = 1.0651 (\u001b[32m↘ -0.014\u001b[0m)\n",
            "│   │   └── Epoch N-1      = 1.0651 (\u001b[32m↘ -0.014\u001b[0m)\n",
            "│   ├── Ppyoloeloss/loss_dfl = 0.9514\n",
            "│   │   ├── Best until now = 0.9665 (\u001b[32m↘ -0.0151\u001b[0m)\n",
            "│   │   └── Epoch N-1      = 0.9665 (\u001b[32m↘ -0.0151\u001b[0m)\n",
            "│   └── Ppyoloeloss/loss_iou = 0.1253\n",
            "│       ├── Best until now = 0.1303 (\u001b[32m↘ -0.005\u001b[0m)\n",
            "│       └── Epoch N-1      = 0.1303 (\u001b[32m↘ -0.005\u001b[0m)\n",
            "└── Validation\n",
            "    ├── F1@0.50 = 0.071\n",
            "    │   ├── Best until now = 0.0839 (\u001b[31m↘ -0.0129\u001b[0m)\n",
            "    │   └── Epoch N-1      = 0.0584 (\u001b[32m↗ 0.0126\u001b[0m)\n",
            "    ├── Map@0.50 = 0.629\n",
            "    │   ├── Best until now = 0.6822 (\u001b[31m↘ -0.0532\u001b[0m)\n",
            "    │   └── Epoch N-1      = 0.6822 (\u001b[31m↘ -0.0532\u001b[0m)\n",
            "    ├── Ppyoloeloss/loss = 1.5748\n",
            "    │   ├── Best until now = 1.6142 (\u001b[32m↘ -0.0395\u001b[0m)\n",
            "    │   └── Epoch N-1      = 1.6207 (\u001b[32m↘ -0.0459\u001b[0m)\n",
            "    ├── Ppyoloeloss/loss_cls = 0.955\n",
            "    │   ├── Best until now = 0.9773 (\u001b[32m↘ -0.0223\u001b[0m)\n",
            "    │   └── Epoch N-1      = 0.9773 (\u001b[32m↘ -0.0223\u001b[0m)\n",
            "    ├── Ppyoloeloss/loss_dfl = 0.8082\n",
            "    │   ├── Best until now = 0.8011 (\u001b[31m↗ 0.0071\u001b[0m)\n",
            "    │   └── Epoch N-1      = 0.8313 (\u001b[32m↘ -0.0231\u001b[0m)\n",
            "    ├── Ppyoloeloss/loss_iou = 0.0863\n",
            "    │   ├── Best until now = 0.0843 (\u001b[31m↗ 0.0019\u001b[0m)\n",
            "    │   └── Epoch N-1      = 0.0911 (\u001b[32m↘ -0.0048\u001b[0m)\n",
            "    ├── Precision@0.50 = 0.0369\n",
            "    │   ├── Best until now = 0.0441 (\u001b[31m↘ -0.0072\u001b[0m)\n",
            "    │   └── Epoch N-1      = 0.0302 (\u001b[32m↗ 0.0067\u001b[0m)\n",
            "    └── Recall@0.50 = 1.0\n",
            "        ├── Best until now = 1.0    (\u001b[37m= 0.0\u001b[0m)\n",
            "        └── Epoch N-1      = 1.0    (\u001b[37m= 0.0\u001b[0m)\n",
            "\n",
            "===========================================================\n"
          ]
        },
        {
          "output_type": "stream",
          "name": "stderr",
          "text": [
            "Train epoch 9: 100%|██████████| 297/297 [03:17<00:00,  1.50it/s, PPYoloELoss/loss=1.8, PPYoloELoss/loss_cls=1.03, PPYoloELoss/loss_dfl=0.929, PPYoloELoss/loss_iou=0.122, gpu_mem=3.75]\n",
            "Validation epoch 9: 100%|██████████| 29/29 [00:06<00:00,  4.41it/s]\n"
          ]
        },
        {
          "output_type": "stream",
          "name": "stdout",
          "text": [
            "===========================================================\n",
            "SUMMARY OF EPOCH 9\n",
            "├── Training\n",
            "│   ├── Ppyoloeloss/loss = 1.7952\n",
            "│   │   ├── Best until now = 1.84   (\u001b[32m↘ -0.0447\u001b[0m)\n",
            "│   │   └── Epoch N-1      = 1.84   (\u001b[32m↘ -0.0447\u001b[0m)\n",
            "│   ├── Ppyoloeloss/loss_cls = 1.0251\n",
            "│   │   ├── Best until now = 1.0511 (\u001b[32m↘ -0.026\u001b[0m)\n",
            "│   │   └── Epoch N-1      = 1.0511 (\u001b[32m↘ -0.026\u001b[0m)\n",
            "│   ├── Ppyoloeloss/loss_dfl = 0.929\n",
            "│   │   ├── Best until now = 0.9514 (\u001b[32m↘ -0.0225\u001b[0m)\n",
            "│   │   └── Epoch N-1      = 0.9514 (\u001b[32m↘ -0.0225\u001b[0m)\n",
            "│   └── Ppyoloeloss/loss_iou = 0.1223\n",
            "│       ├── Best until now = 0.1253 (\u001b[32m↘ -0.003\u001b[0m)\n",
            "│       └── Epoch N-1      = 0.1253 (\u001b[32m↘ -0.003\u001b[0m)\n",
            "└── Validation\n",
            "    ├── F1@0.50 = 0.1389\n",
            "    │   ├── Best until now = 0.0839 (\u001b[32m↗ 0.055\u001b[0m)\n",
            "    │   └── Epoch N-1      = 0.071  (\u001b[32m↗ 0.0679\u001b[0m)\n",
            "    ├── Map@0.50 = 0.6828\n",
            "    │   ├── Best until now = 0.6822 (\u001b[32m↗ 0.0007\u001b[0m)\n",
            "    │   └── Epoch N-1      = 0.629  (\u001b[32m↗ 0.0539\u001b[0m)\n",
            "    ├── Ppyoloeloss/loss = 1.6173\n",
            "    │   ├── Best until now = 1.5748 (\u001b[31m↗ 0.0425\u001b[0m)\n",
            "    │   └── Epoch N-1      = 1.5748 (\u001b[31m↗ 0.0425\u001b[0m)\n",
            "    ├── Ppyoloeloss/loss_cls = 0.911\n",
            "    │   ├── Best until now = 0.955  (\u001b[32m↘ -0.044\u001b[0m)\n",
            "    │   └── Epoch N-1      = 0.955  (\u001b[32m↘ -0.044\u001b[0m)\n",
            "    ├── Ppyoloeloss/loss_dfl = 0.8956\n",
            "    │   ├── Best until now = 0.8011 (\u001b[31m↗ 0.0945\u001b[0m)\n",
            "    │   └── Epoch N-1      = 0.8082 (\u001b[31m↗ 0.0874\u001b[0m)\n",
            "    ├── Ppyoloeloss/loss_iou = 0.1034\n",
            "    │   ├── Best until now = 0.0843 (\u001b[31m↗ 0.019\u001b[0m)\n",
            "    │   └── Epoch N-1      = 0.0863 (\u001b[31m↗ 0.0171\u001b[0m)\n",
            "    ├── Precision@0.50 = 0.0753\n",
            "    │   ├── Best until now = 0.0441 (\u001b[32m↗ 0.0312\u001b[0m)\n",
            "    │   └── Epoch N-1      = 0.0369 (\u001b[32m↗ 0.0384\u001b[0m)\n",
            "    └── Recall@0.50 = 1.0\n",
            "        ├── Best until now = 1.0    (\u001b[37m= 0.0\u001b[0m)\n",
            "        └── Epoch N-1      = 1.0    (\u001b[37m= 0.0\u001b[0m)\n",
            "\n",
            "===========================================================\n"
          ]
        },
        {
          "output_type": "stream",
          "name": "stderr",
          "text": [
            "[2023-06-25 14:13:34] INFO - base_sg_logger.py - Checkpoint saved in /content/checkpoints/coin_detector_and_counter/ckpt_best.pth\n",
            "[2023-06-25 14:13:34] INFO - sg_trainer.py - Best checkpoint overriden: validation mAP@0.50: 0.682849109172821\n",
            "Train epoch 10: 100%|██████████| 297/297 [03:17<00:00,  1.51it/s, PPYoloELoss/loss=1.77, PPYoloELoss/loss_cls=1.01, PPYoloELoss/loss_dfl=0.911, PPYoloELoss/loss_iou=0.119, gpu_mem=3.75]\n",
            "Validation epoch 10: 100%|██████████| 29/29 [00:05<00:00,  5.39it/s]\n"
          ]
        },
        {
          "output_type": "stream",
          "name": "stdout",
          "text": [
            "===========================================================\n",
            "SUMMARY OF EPOCH 10\n",
            "├── Training\n",
            "│   ├── Ppyoloeloss/loss = 1.7656\n",
            "│   │   ├── Best until now = 1.7952 (\u001b[32m↘ -0.0297\u001b[0m)\n",
            "│   │   └── Epoch N-1      = 1.7952 (\u001b[32m↘ -0.0297\u001b[0m)\n",
            "│   ├── Ppyoloeloss/loss_cls = 1.0116\n",
            "│   │   ├── Best until now = 1.0251 (\u001b[32m↘ -0.0135\u001b[0m)\n",
            "│   │   └── Epoch N-1      = 1.0251 (\u001b[32m↘ -0.0135\u001b[0m)\n",
            "│   ├── Ppyoloeloss/loss_dfl = 0.9109\n",
            "│   │   ├── Best until now = 0.929  (\u001b[32m↘ -0.018\u001b[0m)\n",
            "│   │   └── Epoch N-1      = 0.929  (\u001b[32m↘ -0.018\u001b[0m)\n",
            "│   └── Ppyoloeloss/loss_iou = 0.1194\n",
            "│       ├── Best until now = 0.1223 (\u001b[32m↘ -0.0029\u001b[0m)\n",
            "│       └── Epoch N-1      = 0.1223 (\u001b[32m↘ -0.0029\u001b[0m)\n",
            "└── Validation\n",
            "    ├── F1@0.50 = 0.1005\n",
            "    │   ├── Best until now = 0.1389 (\u001b[31m↘ -0.0385\u001b[0m)\n",
            "    │   └── Epoch N-1      = 0.1389 (\u001b[31m↘ -0.0385\u001b[0m)\n",
            "    ├── Map@0.50 = 0.6901\n",
            "    │   ├── Best until now = 0.6828 (\u001b[32m↗ 0.0073\u001b[0m)\n",
            "    │   └── Epoch N-1      = 0.6828 (\u001b[32m↗ 0.0073\u001b[0m)\n",
            "    ├── Ppyoloeloss/loss = 1.546\n",
            "    │   ├── Best until now = 1.5748 (\u001b[32m↘ -0.0288\u001b[0m)\n",
            "    │   └── Epoch N-1      = 1.6173 (\u001b[32m↘ -0.0713\u001b[0m)\n",
            "    ├── Ppyoloeloss/loss_cls = 0.936\n",
            "    │   ├── Best until now = 0.911  (\u001b[31m↗ 0.025\u001b[0m)\n",
            "    │   └── Epoch N-1      = 0.911  (\u001b[31m↗ 0.025\u001b[0m)\n",
            "    ├── Ppyoloeloss/loss_dfl = 0.7881\n",
            "    │   ├── Best until now = 0.8011 (\u001b[32m↘ -0.013\u001b[0m)\n",
            "    │   └── Epoch N-1      = 0.8956 (\u001b[32m↘ -0.1075\u001b[0m)\n",
            "    ├── Ppyoloeloss/loss_iou = 0.0864\n",
            "    │   ├── Best until now = 0.0843 (\u001b[31m↗ 0.002\u001b[0m)\n",
            "    │   └── Epoch N-1      = 0.1034 (\u001b[32m↘ -0.017\u001b[0m)\n",
            "    ├── Precision@0.50 = 0.0534\n",
            "    │   ├── Best until now = 0.0753 (\u001b[31m↘ -0.0219\u001b[0m)\n",
            "    │   └── Epoch N-1      = 0.0753 (\u001b[31m↘ -0.0219\u001b[0m)\n",
            "    └── Recall@0.50 = 1.0\n",
            "        ├── Best until now = 1.0    (\u001b[37m= 0.0\u001b[0m)\n",
            "        └── Epoch N-1      = 1.0    (\u001b[37m= 0.0\u001b[0m)\n",
            "\n",
            "===========================================================\n"
          ]
        },
        {
          "output_type": "stream",
          "name": "stderr",
          "text": [
            "[2023-06-25 14:17:15] INFO - base_sg_logger.py - Checkpoint saved in /content/checkpoints/coin_detector_and_counter/ckpt_best.pth\n",
            "[2023-06-25 14:17:15] INFO - sg_trainer.py - Best checkpoint overriden: validation mAP@0.50: 0.6901298761367798\n",
            "Train epoch 11: 100%|██████████| 297/297 [03:17<00:00,  1.51it/s, PPYoloELoss/loss=1.73, PPYoloELoss/loss_cls=0.991, PPYoloELoss/loss_dfl=0.892, PPYoloELoss/loss_iou=0.116, gpu_mem=3.75]\n",
            "Validation epoch 11: 100%|██████████| 29/29 [00:05<00:00,  5.47it/s]\n"
          ]
        },
        {
          "output_type": "stream",
          "name": "stdout",
          "text": [
            "===========================================================\n",
            "SUMMARY OF EPOCH 11\n",
            "├── Training\n",
            "│   ├── Ppyoloeloss/loss = 1.7268\n",
            "│   │   ├── Best until now = 1.7656 (\u001b[32m↘ -0.0388\u001b[0m)\n",
            "│   │   └── Epoch N-1      = 1.7656 (\u001b[32m↘ -0.0388\u001b[0m)\n",
            "│   ├── Ppyoloeloss/loss_cls = 0.9908\n",
            "│   │   ├── Best until now = 1.0116 (\u001b[32m↘ -0.0208\u001b[0m)\n",
            "│   │   └── Epoch N-1      = 1.0116 (\u001b[32m↘ -0.0208\u001b[0m)\n",
            "│   ├── Ppyoloeloss/loss_dfl = 0.892\n",
            "│   │   ├── Best until now = 0.9109 (\u001b[32m↘ -0.0189\u001b[0m)\n",
            "│   │   └── Epoch N-1      = 0.9109 (\u001b[32m↘ -0.0189\u001b[0m)\n",
            "│   └── Ppyoloeloss/loss_iou = 0.116\n",
            "│       ├── Best until now = 0.1194 (\u001b[32m↘ -0.0034\u001b[0m)\n",
            "│       └── Epoch N-1      = 0.1194 (\u001b[32m↘ -0.0034\u001b[0m)\n",
            "└── Validation\n",
            "    ├── F1@0.50 = 0.1006\n",
            "    │   ├── Best until now = 0.1389 (\u001b[31m↘ -0.0384\u001b[0m)\n",
            "    │   └── Epoch N-1      = 0.1005 (\u001b[32m↗ 0.0001\u001b[0m)\n",
            "    ├── Map@0.50 = 0.6814\n",
            "    │   ├── Best until now = 0.6901 (\u001b[31m↘ -0.0087\u001b[0m)\n",
            "    │   └── Epoch N-1      = 0.6901 (\u001b[31m↘ -0.0087\u001b[0m)\n",
            "    ├── Ppyoloeloss/loss = 1.5137\n",
            "    │   ├── Best until now = 1.546  (\u001b[32m↘ -0.0323\u001b[0m)\n",
            "    │   └── Epoch N-1      = 1.546  (\u001b[32m↘ -0.0323\u001b[0m)\n",
            "    ├── Ppyoloeloss/loss_cls = 0.9134\n",
            "    │   ├── Best until now = 0.911  (\u001b[31m↗ 0.0023\u001b[0m)\n",
            "    │   └── Epoch N-1      = 0.936  (\u001b[32m↘ -0.0226\u001b[0m)\n",
            "    ├── Ppyoloeloss/loss_dfl = 0.7797\n",
            "    │   ├── Best until now = 0.7881 (\u001b[32m↘ -0.0084\u001b[0m)\n",
            "    │   └── Epoch N-1      = 0.7881 (\u001b[32m↘ -0.0084\u001b[0m)\n",
            "    ├── Ppyoloeloss/loss_iou = 0.0842\n",
            "    │   ├── Best until now = 0.0843 (\u001b[32m↘ -0.0002\u001b[0m)\n",
            "    │   └── Epoch N-1      = 0.0864 (\u001b[32m↘ -0.0022\u001b[0m)\n",
            "    ├── Precision@0.50 = 0.0533\n",
            "    │   ├── Best until now = 0.0753 (\u001b[31m↘ -0.022\u001b[0m)\n",
            "    │   └── Epoch N-1      = 0.0534 (\u001b[31m↘ -0.0001\u001b[0m)\n",
            "    └── Recall@0.50 = 1.0\n",
            "        ├── Best until now = 1.0    (\u001b[37m= 0.0\u001b[0m)\n",
            "        └── Epoch N-1      = 1.0    (\u001b[37m= 0.0\u001b[0m)\n",
            "\n",
            "===========================================================\n"
          ]
        },
        {
          "output_type": "stream",
          "name": "stderr",
          "text": [
            "Train epoch 12: 100%|██████████| 297/297 [03:15<00:00,  1.52it/s, PPYoloELoss/loss=1.7, PPYoloELoss/loss_cls=0.975, PPYoloELoss/loss_dfl=0.882, PPYoloELoss/loss_iou=0.113, gpu_mem=3.75]\n",
            "Validation epoch 12: 100%|██████████| 29/29 [00:05<00:00,  5.46it/s]\n"
          ]
        },
        {
          "output_type": "stream",
          "name": "stdout",
          "text": [
            "===========================================================\n",
            "SUMMARY OF EPOCH 12\n",
            "├── Training\n",
            "│   ├── Ppyoloeloss/loss = 1.6997\n",
            "│   │   ├── Best until now = 1.7268 (\u001b[32m↘ -0.027\u001b[0m)\n",
            "│   │   └── Epoch N-1      = 1.7268 (\u001b[32m↘ -0.027\u001b[0m)\n",
            "│   ├── Ppyoloeloss/loss_cls = 0.9751\n",
            "│   │   ├── Best until now = 0.9908 (\u001b[32m↘ -0.0157\u001b[0m)\n",
            "│   │   └── Epoch N-1      = 0.9908 (\u001b[32m↘ -0.0157\u001b[0m)\n",
            "│   ├── Ppyoloeloss/loss_dfl = 0.8824\n",
            "│   │   ├── Best until now = 0.892  (\u001b[32m↘ -0.0096\u001b[0m)\n",
            "│   │   └── Epoch N-1      = 0.892  (\u001b[32m↘ -0.0096\u001b[0m)\n",
            "│   └── Ppyoloeloss/loss_iou = 0.1134\n",
            "│       ├── Best until now = 0.116  (\u001b[32m↘ -0.0026\u001b[0m)\n",
            "│       └── Epoch N-1      = 0.116  (\u001b[32m↘ -0.0026\u001b[0m)\n",
            "└── Validation\n",
            "    ├── F1@0.50 = 0.1185\n",
            "    │   ├── Best until now = 0.1389 (\u001b[31m↘ -0.0205\u001b[0m)\n",
            "    │   └── Epoch N-1      = 0.1006 (\u001b[32m↗ 0.0179\u001b[0m)\n",
            "    ├── Map@0.50 = 0.7249\n",
            "    │   ├── Best until now = 0.6901 (\u001b[32m↗ 0.0348\u001b[0m)\n",
            "    │   └── Epoch N-1      = 0.6814 (\u001b[32m↗ 0.0436\u001b[0m)\n",
            "    ├── Ppyoloeloss/loss = 1.5163\n",
            "    │   ├── Best until now = 1.5137 (\u001b[31m↗ 0.0027\u001b[0m)\n",
            "    │   └── Epoch N-1      = 1.5137 (\u001b[31m↗ 0.0027\u001b[0m)\n",
            "    ├── Ppyoloeloss/loss_cls = 0.8959\n",
            "    │   ├── Best until now = 0.911  (\u001b[32m↘ -0.0151\u001b[0m)\n",
            "    │   └── Epoch N-1      = 0.9134 (\u001b[32m↘ -0.0175\u001b[0m)\n",
            "    ├── Ppyoloeloss/loss_dfl = 0.8019\n",
            "    │   ├── Best until now = 0.7797 (\u001b[31m↗ 0.0222\u001b[0m)\n",
            "    │   └── Epoch N-1      = 0.7797 (\u001b[31m↗ 0.0222\u001b[0m)\n",
            "    ├── Ppyoloeloss/loss_iou = 0.0878\n",
            "    │   ├── Best until now = 0.0842 (\u001b[31m↗ 0.0036\u001b[0m)\n",
            "    │   └── Epoch N-1      = 0.0842 (\u001b[31m↗ 0.0036\u001b[0m)\n",
            "    ├── Precision@0.50 = 0.0633\n",
            "    │   ├── Best until now = 0.0753 (\u001b[31m↘ -0.012\u001b[0m)\n",
            "    │   └── Epoch N-1      = 0.0533 (\u001b[32m↗ 0.01\u001b[0m)\n",
            "    └── Recall@0.50 = 1.0\n",
            "        ├── Best until now = 1.0    (\u001b[37m= 0.0\u001b[0m)\n",
            "        └── Epoch N-1      = 1.0    (\u001b[37m= 0.0\u001b[0m)\n",
            "\n",
            "===========================================================\n"
          ]
        },
        {
          "output_type": "stream",
          "name": "stderr",
          "text": [
            "[2023-06-25 14:24:16] INFO - base_sg_logger.py - Checkpoint saved in /content/checkpoints/coin_detector_and_counter/ckpt_best.pth\n",
            "[2023-06-25 14:24:16] INFO - sg_trainer.py - Best checkpoint overriden: validation mAP@0.50: 0.72493577003479\n",
            "Train epoch 13: 100%|██████████| 297/297 [03:13<00:00,  1.53it/s, PPYoloELoss/loss=1.66, PPYoloELoss/loss_cls=0.958, PPYoloELoss/loss_dfl=0.863, PPYoloELoss/loss_iou=0.11, gpu_mem=3.75]\n",
            "Validation epoch 13: 100%|██████████| 29/29 [00:06<00:00,  4.46it/s]\n"
          ]
        },
        {
          "output_type": "stream",
          "name": "stdout",
          "text": [
            "===========================================================\n",
            "SUMMARY OF EPOCH 13\n",
            "├── Training\n",
            "│   ├── Ppyoloeloss/loss = 1.6634\n",
            "│   │   ├── Best until now = 1.6997 (\u001b[32m↘ -0.0363\u001b[0m)\n",
            "│   │   └── Epoch N-1      = 1.6997 (\u001b[32m↘ -0.0363\u001b[0m)\n",
            "│   ├── Ppyoloeloss/loss_cls = 0.9576\n",
            "│   │   ├── Best until now = 0.9751 (\u001b[32m↘ -0.0175\u001b[0m)\n",
            "│   │   └── Epoch N-1      = 0.9751 (\u001b[32m↘ -0.0175\u001b[0m)\n",
            "│   ├── Ppyoloeloss/loss_dfl = 0.8631\n",
            "│   │   ├── Best until now = 0.8824 (\u001b[32m↘ -0.0192\u001b[0m)\n",
            "│   │   └── Epoch N-1      = 0.8824 (\u001b[32m↘ -0.0192\u001b[0m)\n",
            "│   └── Ppyoloeloss/loss_iou = 0.1097\n",
            "│       ├── Best until now = 0.1134 (\u001b[32m↘ -0.0037\u001b[0m)\n",
            "│       └── Epoch N-1      = 0.1134 (\u001b[32m↘ -0.0037\u001b[0m)\n",
            "└── Validation\n",
            "    ├── F1@0.50 = 0.1603\n",
            "    │   ├── Best until now = 0.1389 (\u001b[32m↗ 0.0214\u001b[0m)\n",
            "    │   └── Epoch N-1      = 0.1185 (\u001b[32m↗ 0.0419\u001b[0m)\n",
            "    ├── Map@0.50 = 0.6903\n",
            "    │   ├── Best until now = 0.7249 (\u001b[31m↘ -0.0346\u001b[0m)\n",
            "    │   └── Epoch N-1      = 0.7249 (\u001b[31m↘ -0.0346\u001b[0m)\n",
            "    ├── Ppyoloeloss/loss = 1.4796\n",
            "    │   ├── Best until now = 1.5137 (\u001b[32m↘ -0.034\u001b[0m)\n",
            "    │   └── Epoch N-1      = 1.5163 (\u001b[32m↘ -0.0367\u001b[0m)\n",
            "    ├── Ppyoloeloss/loss_cls = 0.895\n",
            "    │   ├── Best until now = 0.8959 (\u001b[32m↘ -0.0009\u001b[0m)\n",
            "    │   └── Epoch N-1      = 0.8959 (\u001b[32m↘ -0.0009\u001b[0m)\n",
            "    ├── Ppyoloeloss/loss_dfl = 0.7665\n",
            "    │   ├── Best until now = 0.7797 (\u001b[32m↘ -0.0132\u001b[0m)\n",
            "    │   └── Epoch N-1      = 0.8019 (\u001b[32m↘ -0.0354\u001b[0m)\n",
            "    ├── Ppyoloeloss/loss_iou = 0.0806\n",
            "    │   ├── Best until now = 0.0842 (\u001b[32m↘ -0.0036\u001b[0m)\n",
            "    │   └── Epoch N-1      = 0.0878 (\u001b[32m↘ -0.0072\u001b[0m)\n",
            "    ├── Precision@0.50 = 0.0882\n",
            "    │   ├── Best until now = 0.0753 (\u001b[32m↗ 0.0129\u001b[0m)\n",
            "    │   └── Epoch N-1      = 0.0633 (\u001b[32m↗ 0.0249\u001b[0m)\n",
            "    └── Recall@0.50 = 1.0\n",
            "        ├── Best until now = 1.0    (\u001b[37m= 0.0\u001b[0m)\n",
            "        └── Epoch N-1      = 1.0    (\u001b[37m= 0.0\u001b[0m)\n",
            "\n",
            "===========================================================\n"
          ]
        },
        {
          "output_type": "stream",
          "name": "stderr",
          "text": [
            "Train epoch 14: 100%|██████████| 297/297 [03:13<00:00,  1.53it/s, PPYoloELoss/loss=1.65, PPYoloELoss/loss_cls=0.948, PPYoloELoss/loss_dfl=0.865, PPYoloELoss/loss_iou=0.109, gpu_mem=3.75]\n",
            "Validation epoch 14: 100%|██████████| 29/29 [00:06<00:00,  4.46it/s]\n"
          ]
        },
        {
          "output_type": "stream",
          "name": "stdout",
          "text": [
            "===========================================================\n",
            "SUMMARY OF EPOCH 14\n",
            "├── Training\n",
            "│   ├── Ppyoloeloss/loss = 1.6522\n",
            "│   │   ├── Best until now = 1.6634 (\u001b[32m↘ -0.0113\u001b[0m)\n",
            "│   │   └── Epoch N-1      = 1.6634 (\u001b[32m↘ -0.0113\u001b[0m)\n",
            "│   ├── Ppyoloeloss/loss_cls = 0.9482\n",
            "│   │   ├── Best until now = 0.9576 (\u001b[32m↘ -0.0094\u001b[0m)\n",
            "│   │   └── Epoch N-1      = 0.9576 (\u001b[32m↘ -0.0094\u001b[0m)\n",
            "│   ├── Ppyoloeloss/loss_dfl = 0.8654\n",
            "│   │   ├── Best until now = 0.8631 (\u001b[31m↗ 0.0022\u001b[0m)\n",
            "│   │   └── Epoch N-1      = 0.8631 (\u001b[31m↗ 0.0022\u001b[0m)\n",
            "│   └── Ppyoloeloss/loss_iou = 0.1085\n",
            "│       ├── Best until now = 0.1097 (\u001b[32m↘ -0.0012\u001b[0m)\n",
            "│       └── Epoch N-1      = 0.1097 (\u001b[32m↘ -0.0012\u001b[0m)\n",
            "└── Validation\n",
            "    ├── F1@0.50 = 0.1005\n",
            "    │   ├── Best until now = 0.1603 (\u001b[31m↘ -0.0598\u001b[0m)\n",
            "    │   └── Epoch N-1      = 0.1603 (\u001b[31m↘ -0.0598\u001b[0m)\n",
            "    ├── Map@0.50 = 0.7159\n",
            "    │   ├── Best until now = 0.7249 (\u001b[31m↘ -0.009\u001b[0m)\n",
            "    │   └── Epoch N-1      = 0.6903 (\u001b[32m↗ 0.0256\u001b[0m)\n",
            "    ├── Ppyoloeloss/loss = 1.5485\n",
            "    │   ├── Best until now = 1.4796 (\u001b[31m↗ 0.0688\u001b[0m)\n",
            "    │   └── Epoch N-1      = 1.4796 (\u001b[31m↗ 0.0688\u001b[0m)\n",
            "    ├── Ppyoloeloss/loss_cls = 0.9322\n",
            "    │   ├── Best until now = 0.895  (\u001b[31m↗ 0.0373\u001b[0m)\n",
            "    │   └── Epoch N-1      = 0.895  (\u001b[31m↗ 0.0373\u001b[0m)\n",
            "    ├── Ppyoloeloss/loss_dfl = 0.796\n",
            "    │   ├── Best until now = 0.7665 (\u001b[31m↗ 0.0295\u001b[0m)\n",
            "    │   └── Epoch N-1      = 0.7665 (\u001b[31m↗ 0.0295\u001b[0m)\n",
            "    ├── Ppyoloeloss/loss_iou = 0.0873\n",
            "    │   ├── Best until now = 0.0806 (\u001b[31m↗ 0.0067\u001b[0m)\n",
            "    │   └── Epoch N-1      = 0.0806 (\u001b[31m↗ 0.0067\u001b[0m)\n",
            "    ├── Precision@0.50 = 0.0533\n",
            "    │   ├── Best until now = 0.0882 (\u001b[31m↘ -0.0349\u001b[0m)\n",
            "    │   └── Epoch N-1      = 0.0882 (\u001b[31m↘ -0.0349\u001b[0m)\n",
            "    └── Recall@0.50 = 1.0\n",
            "        ├── Best until now = 1.0    (\u001b[37m= 0.0\u001b[0m)\n",
            "        └── Epoch N-1      = 1.0    (\u001b[37m= 0.0\u001b[0m)\n",
            "\n",
            "===========================================================\n"
          ]
        },
        {
          "output_type": "stream",
          "name": "stderr",
          "text": [
            "[2023-06-25 14:31:31] INFO - sg_trainer.py - RUNNING ADDITIONAL TEST ON THE AVERAGED MODEL...\n",
            "Validation epoch 15:  97%|█████████▋| 28/29 [00:05<00:00,  6.27it/s]"
          ]
        }
      ]
    },
    {
      "cell_type": "markdown",
      "source": [
        "### Analyze training metrics\n"
      ],
      "metadata": {
        "id": "SiMFjRokll6q"
      }
    },
    {
      "cell_type": "code",
      "source": [
        "%load_ext tensorboard\n",
        "%tensorboard --logdir {CHECKPOINT_DIR}/{EXPERIMENT_NAME}"
      ],
      "metadata": {
        "colab": {
          "base_uri": "https://localhost:8080/",
          "height": 1000
        },
        "id": "LRZ6qtaca9_w",
        "outputId": "ecf0c9da-a917-4de7-fe95-4599d6c41372"
      },
      "execution_count": null,
      "outputs": [
        {
          "output_type": "display_data",
          "data": {
            "text/plain": [
              "<IPython.core.display.Javascript object>"
            ],
            "application/javascript": [
              "\n",
              "        (async () => {\n",
              "            const url = new URL(await google.colab.kernel.proxyPort(6006, {'cache': true}));\n",
              "            url.searchParams.set('tensorboardColab', 'true');\n",
              "            const iframe = document.createElement('iframe');\n",
              "            iframe.src = url;\n",
              "            iframe.setAttribute('width', '100%');\n",
              "            iframe.setAttribute('height', '800');\n",
              "            iframe.setAttribute('frameborder', 0);\n",
              "            document.body.appendChild(iframe);\n",
              "        })();\n",
              "    "
            ]
          },
          "metadata": {}
        },
        {
          "output_type": "stream",
          "name": "stderr",
          "text": [
            "\rValidation epoch 15: 100%|██████████| 29/29 [00:05<00:00,  5.32it/s]\n",
            "[2023-06-25 14:31:37] INFO - base_sg_logger.py - [CLEANUP] - Successfully stopped system monitoring process\n"
          ]
        },
        {
          "output_type": "stream",
          "name": "stdout",
          "text": [
            "===========================================================\n",
            "SUMMARY OF EPOCH 15\n",
            "├── Training\n",
            "│   ├── Ppyoloeloss/loss = 1.6522\n",
            "│   │   ├── Best until now = 1.6634 (\u001b[32m↘ -0.0113\u001b[0m)\n",
            "│   │   └── Epoch N-1      = 1.6634 (\u001b[32m↘ -0.0113\u001b[0m)\n",
            "│   ├── Ppyoloeloss/loss_cls = 0.9482\n",
            "│   │   ├── Best until now = 0.9576 (\u001b[32m↘ -0.0094\u001b[0m)\n",
            "│   │   └── Epoch N-1      = 0.9576 (\u001b[32m↘ -0.0094\u001b[0m)\n",
            "│   ├── Ppyoloeloss/loss_dfl = 0.8654\n",
            "│   │   ├── Best until now = 0.8631 (\u001b[31m↗ 0.0022\u001b[0m)\n",
            "│   │   └── Epoch N-1      = 0.8631 (\u001b[31m↗ 0.0022\u001b[0m)\n",
            "│   └── Ppyoloeloss/loss_iou = 0.1085\n",
            "│       ├── Best until now = 0.1097 (\u001b[32m↘ -0.0012\u001b[0m)\n",
            "│       └── Epoch N-1      = 0.1097 (\u001b[32m↘ -0.0012\u001b[0m)\n",
            "└── Validation\n",
            "    ├── F1@0.50 = 0.1668\n",
            "    │   ├── Best until now = 0.1603 (\u001b[32m↗ 0.0065\u001b[0m)\n",
            "    │   └── Epoch N-1      = 0.1005 (\u001b[32m↗ 0.0663\u001b[0m)\n",
            "    ├── Map@0.50 = 0.6928\n",
            "    │   ├── Best until now = 0.7249 (\u001b[31m↘ -0.0321\u001b[0m)\n",
            "    │   └── Epoch N-1      = 0.7159 (\u001b[31m↘ -0.0231\u001b[0m)\n",
            "    ├── Ppyoloeloss/loss = 1.4593\n",
            "    │   ├── Best until now = 1.4796 (\u001b[32m↘ -0.0204\u001b[0m)\n",
            "    │   └── Epoch N-1      = 1.5485 (\u001b[32m↘ -0.0892\u001b[0m)\n",
            "    ├── Ppyoloeloss/loss_cls = 0.8783\n",
            "    │   ├── Best until now = 0.895  (\u001b[32m↘ -0.0167\u001b[0m)\n",
            "    │   └── Epoch N-1      = 0.9322 (\u001b[32m↘ -0.054\u001b[0m)\n",
            "    ├── Ppyoloeloss/loss_dfl = 0.763\n",
            "    │   ├── Best until now = 0.7665 (\u001b[32m↘ -0.0035\u001b[0m)\n",
            "    │   └── Epoch N-1      = 0.796  (\u001b[32m↘ -0.033\u001b[0m)\n",
            "    ├── Ppyoloeloss/loss_iou = 0.0798\n",
            "    │   ├── Best until now = 0.0806 (\u001b[32m↘ -0.0008\u001b[0m)\n",
            "    │   └── Epoch N-1      = 0.0873 (\u001b[32m↘ -0.0075\u001b[0m)\n",
            "    ├── Precision@0.50 = 0.0916\n",
            "    │   ├── Best until now = 0.0882 (\u001b[32m↗ 0.0034\u001b[0m)\n",
            "    │   └── Epoch N-1      = 0.0533 (\u001b[32m↗ 0.0383\u001b[0m)\n",
            "    └── Recall@0.50 = 1.0\n",
            "        ├── Best until now = 1.0    (\u001b[37m= 0.0\u001b[0m)\n",
            "        └── Epoch N-1      = 1.0    (\u001b[37m= 0.0\u001b[0m)\n",
            "\n",
            "===========================================================\n"
          ]
        }
      ]
    },
    {
      "cell_type": "markdown",
      "source": [
        "## Zip and download fine-tuned model"
      ],
      "metadata": {
        "id": "U2Zm_JWRcIcp"
      }
    },
    {
      "cell_type": "code",
      "source": [
        "!zip -r yolo_nas.zip {CHECKPOINT_DIR}/{EXPERIMENT_NAME}"
      ],
      "metadata": {
        "id": "AicLyuZBcLx3",
        "outputId": "c296a933-2f5c-4087-80fa-d7bc050970aa",
        "colab": {
          "base_uri": "https://localhost:8080/"
        }
      },
      "execution_count": null,
      "outputs": [
        {
          "output_type": "stream",
          "name": "stdout",
          "text": [
            "updating: content/checkpoints/coin_detector_and_counter/ (stored 0%)\n",
            "updating: content/checkpoints/coin_detector_and_counter/events.out.tfevents.1687703497.abb6b739317f.5179.1 (deflated 42%)\n",
            "updating: content/checkpoints/coin_detector_and_counter/ckpt_latest.pth (deflated 8%)\n",
            "updating: content/checkpoints/coin_detector_and_counter/events.out.tfevents.1687700278.abb6b739317f.5179.0 (deflated 82%)\n",
            "updating: content/checkpoints/coin_detector_and_counter/console_Jun25_13_37_58.txt (deflated 95%)\n",
            "updating: content/checkpoints/coin_detector_and_counter/experiment_logs_Jun25_13_37_58.txt (deflated 73%)\n",
            "updating: content/checkpoints/coin_detector_and_counter/logs_Jun25_13_37_58.txt (deflated 78%)\n",
            "updating: content/checkpoints/coin_detector_and_counter/average_model.pth (deflated 8%)\n",
            "updating: content/checkpoints/coin_detector_and_counter/ckpt_best.pth"
          ]
        }
      ]
    },
    {
      "cell_type": "code",
      "source": [
        "from google.colab import drive\n",
        "drive.mount('/content/drive')\n"
      ],
      "metadata": {
        "id": "p2D2DwJmY32m",
        "outputId": "40d0b593-f0d4-46f6-9f6e-3f58b52ba7f2",
        "colab": {
          "base_uri": "https://localhost:8080/"
        }
      },
      "execution_count": null,
      "outputs": [
        {
          "output_type": "stream",
          "name": "stdout",
          "text": [
            "Mounted at /content/drive\n"
          ]
        }
      ]
    },
    {
      "cell_type": "code",
      "source": [
        "# if you experience 'NotImplementedError: A UTF-8 locale is required. Got ANSI_X3.4-1968' error, run code below 👇\n",
        "\n",
        "import locale\n",
        "locale.getpreferredencoding = lambda: \"UTF-8\""
      ],
      "metadata": {
        "id": "wM3pdH3NdF2L"
      },
      "execution_count": null,
      "outputs": []
    },
    {
      "cell_type": "markdown",
      "source": [
        "## Load trained model"
      ],
      "metadata": {
        "id": "o0Lkok3TKueg"
      }
    },
    {
      "cell_type": "code",
      "source": [
        "import os\n",
        "HOME = os.getcwd()\n",
        "print(HOME)"
      ],
      "metadata": {
        "id": "Ji5LRHA6DBMu"
      },
      "execution_count": null,
      "outputs": []
    },
    {
      "cell_type": "code",
      "source": [
        "DEVICE = torch.device('cuda' if torch.cuda.is_available() else 'cpu')\n",
        "best_model = models.get(\n",
        "    MODEL_ARCH,\n",
        "    num_classes=len(dataset_params['classes']),\n",
        "    checkpoint_path=f\"/content/drive/MyDrive/saved_models/{EXPERIMENT_NAME}/average_model.pth\"\n",
        ").to(DEVICE)"
      ],
      "metadata": {
        "colab": {
          "base_uri": "https://localhost:8080/",
          "height": 570
        },
        "id": "Al1R2UQ5y5tk",
        "outputId": "4d7d3c9a-7470-46e5-8830-7d293b8a3fdc"
      },
      "execution_count": null,
      "outputs": [
        {
          "output_type": "error",
          "ename": "FileNotFoundError",
          "evalue": "ignored",
          "traceback": [
            "\u001b[0;31m---------------------------------------------------------------------------\u001b[0m",
            "\u001b[0;31mFileNotFoundError\u001b[0m                         Traceback (most recent call last)",
            "\u001b[0;32m<ipython-input-36-78ab249ea5fc>\u001b[0m in \u001b[0;36m<cell line: 2>\u001b[0;34m()\u001b[0m\n\u001b[1;32m      1\u001b[0m \u001b[0mDEVICE\u001b[0m \u001b[0;34m=\u001b[0m \u001b[0mtorch\u001b[0m\u001b[0;34m.\u001b[0m\u001b[0mdevice\u001b[0m\u001b[0;34m(\u001b[0m\u001b[0;34m'cuda'\u001b[0m \u001b[0;32mif\u001b[0m \u001b[0mtorch\u001b[0m\u001b[0;34m.\u001b[0m\u001b[0mcuda\u001b[0m\u001b[0;34m.\u001b[0m\u001b[0mis_available\u001b[0m\u001b[0;34m(\u001b[0m\u001b[0;34m)\u001b[0m \u001b[0;32melse\u001b[0m \u001b[0;34m'cpu'\u001b[0m\u001b[0;34m)\u001b[0m\u001b[0;34m\u001b[0m\u001b[0;34m\u001b[0m\u001b[0m\n\u001b[0;32m----> 2\u001b[0;31m best_model = models.get(\n\u001b[0m\u001b[1;32m      3\u001b[0m     \u001b[0mMODEL_ARCH\u001b[0m\u001b[0;34m,\u001b[0m\u001b[0;34m\u001b[0m\u001b[0;34m\u001b[0m\u001b[0m\n\u001b[1;32m      4\u001b[0m     \u001b[0mnum_classes\u001b[0m\u001b[0;34m=\u001b[0m\u001b[0mlen\u001b[0m\u001b[0;34m(\u001b[0m\u001b[0mdataset_params\u001b[0m\u001b[0;34m[\u001b[0m\u001b[0;34m'classes'\u001b[0m\u001b[0;34m]\u001b[0m\u001b[0;34m)\u001b[0m\u001b[0;34m,\u001b[0m\u001b[0;34m\u001b[0m\u001b[0;34m\u001b[0m\u001b[0m\n\u001b[1;32m      5\u001b[0m     \u001b[0mcheckpoint_path\u001b[0m\u001b[0;34m=\u001b[0m\u001b[0;34mf\"/content/drive/MyDrive/saved_models/{EXPERIMENT_NAME}/average_model.pth\"\u001b[0m\u001b[0;34m\u001b[0m\u001b[0;34m\u001b[0m\u001b[0m\n",
            "\u001b[0;32m/usr/local/lib/python3.10/dist-packages/super_gradients/training/models/model_factory.py\u001b[0m in \u001b[0;36mget\u001b[0;34m(model_name, arch_params, num_classes, strict_load, checkpoint_path, pretrained_weights, load_backbone, download_required_code, checkpoint_num_classes)\u001b[0m\n\u001b[1;32m    203\u001b[0m \u001b[0;34m\u001b[0m\u001b[0m\n\u001b[1;32m    204\u001b[0m     \u001b[0;32mif\u001b[0m \u001b[0mcheckpoint_path\u001b[0m\u001b[0;34m:\u001b[0m\u001b[0;34m\u001b[0m\u001b[0;34m\u001b[0m\u001b[0m\n\u001b[0;32m--> 205\u001b[0;31m         \u001b[0mckpt_entries\u001b[0m \u001b[0;34m=\u001b[0m \u001b[0mread_ckpt_state_dict\u001b[0m\u001b[0;34m(\u001b[0m\u001b[0mckpt_path\u001b[0m\u001b[0;34m=\u001b[0m\u001b[0mcheckpoint_path\u001b[0m\u001b[0;34m)\u001b[0m\u001b[0;34m.\u001b[0m\u001b[0mkeys\u001b[0m\u001b[0;34m(\u001b[0m\u001b[0;34m)\u001b[0m\u001b[0;34m\u001b[0m\u001b[0;34m\u001b[0m\u001b[0m\n\u001b[0m\u001b[1;32m    206\u001b[0m         \u001b[0mload_processing\u001b[0m \u001b[0;34m=\u001b[0m \u001b[0;34m\"processing_params\"\u001b[0m \u001b[0;32min\u001b[0m \u001b[0mckpt_entries\u001b[0m\u001b[0;34m\u001b[0m\u001b[0;34m\u001b[0m\u001b[0m\n\u001b[1;32m    207\u001b[0m         \u001b[0mload_ema_as_net\u001b[0m \u001b[0;34m=\u001b[0m \u001b[0;34m\"ema_net\"\u001b[0m \u001b[0;32min\u001b[0m \u001b[0mckpt_entries\u001b[0m\u001b[0;34m\u001b[0m\u001b[0;34m\u001b[0m\u001b[0m\n",
            "\u001b[0;32m/usr/local/lib/python3.10/dist-packages/super_gradients/training/utils/checkpoint_utils.py\u001b[0m in \u001b[0;36mread_ckpt_state_dict\u001b[0;34m(ckpt_path, device)\u001b[0m\n\u001b[1;32m    128\u001b[0m \u001b[0;32mdef\u001b[0m \u001b[0mread_ckpt_state_dict\u001b[0m\u001b[0;34m(\u001b[0m\u001b[0mckpt_path\u001b[0m\u001b[0;34m:\u001b[0m \u001b[0mstr\u001b[0m\u001b[0;34m,\u001b[0m \u001b[0mdevice\u001b[0m\u001b[0;34m=\u001b[0m\u001b[0;34m\"cpu\"\u001b[0m\u001b[0;34m)\u001b[0m\u001b[0;34m:\u001b[0m\u001b[0;34m\u001b[0m\u001b[0;34m\u001b[0m\u001b[0m\n\u001b[1;32m    129\u001b[0m     \u001b[0;32mif\u001b[0m \u001b[0;32mnot\u001b[0m \u001b[0mos\u001b[0m\u001b[0;34m.\u001b[0m\u001b[0mpath\u001b[0m\u001b[0;34m.\u001b[0m\u001b[0mexists\u001b[0m\u001b[0;34m(\u001b[0m\u001b[0mckpt_path\u001b[0m\u001b[0;34m)\u001b[0m\u001b[0;34m:\u001b[0m\u001b[0;34m\u001b[0m\u001b[0;34m\u001b[0m\u001b[0m\n\u001b[0;32m--> 130\u001b[0;31m         \u001b[0;32mraise\u001b[0m \u001b[0mFileNotFoundError\u001b[0m\u001b[0;34m(\u001b[0m\u001b[0;34mf\"Incorrect Checkpoint path: {ckpt_path} (This should be an absolute path)\"\u001b[0m\u001b[0;34m)\u001b[0m\u001b[0;34m\u001b[0m\u001b[0;34m\u001b[0m\u001b[0m\n\u001b[0m\u001b[1;32m    131\u001b[0m \u001b[0;34m\u001b[0m\u001b[0m\n\u001b[1;32m    132\u001b[0m     \u001b[0;32mif\u001b[0m \u001b[0mdevice\u001b[0m \u001b[0;34m==\u001b[0m \u001b[0;34m\"cuda\"\u001b[0m\u001b[0;34m:\u001b[0m\u001b[0;34m\u001b[0m\u001b[0;34m\u001b[0m\u001b[0m\n",
            "\u001b[0;31mFileNotFoundError\u001b[0m: Incorrect Checkpoint path: /content/drive/MyDrive/saved_models/coin_detector_and_counter/average_model.pth (This should be an absolute path)"
          ]
        }
      ]
    },
    {
      "cell_type": "markdown",
      "source": [
        "## Evaluate trained model"
      ],
      "metadata": {
        "id": "kCLMU8PEKzvf"
      }
    },
    {
      "cell_type": "code",
      "source": [
        "trainer.test(\n",
        "    model=best_model,\n",
        "    test_loader=test_data,\n",
        "    test_metrics_list=DetectionMetrics_050(\n",
        "        score_thres=0.1,\n",
        "        top_k_predictions=300,\n",
        "        num_cls=len(dataset_params['classes']),\n",
        "        normalize_targets=True,\n",
        "        post_prediction_callback=PPYoloEPostPredictionCallback(\n",
        "            score_threshold=0.01,\n",
        "            nms_top_k=1000,\n",
        "            max_predictions=300,\n",
        "            nms_threshold=0.7\n",
        "        )\n",
        "    )\n",
        ")\n",
        "\n",
        "# Test: 100%|██████████| 16/16 [00:03<00:00,  4.94it/s]\n",
        "# {'PPYoloELoss/loss_cls': 0.95609295,\n",
        "#  'PPYoloELoss/loss_iou': 0.08095996,\n",
        "#  'PPYoloELoss/loss_dfl': 0.73067665,\n",
        "#  'PPYoloELoss/loss': 1.5238311,\n",
        "#  'Precision@0.50': tensor(0.0738),\n",
        "#  'Recall@0.50': tensor(1.),\n",
        "#  'mAP@0.50': tensor(0.6059),\n",
        "#  'F1@0.50': tensor(0.1365)}"
      ],
      "metadata": {
        "id": "figss_6TJvAj"
      },
      "execution_count": null,
      "outputs": []
    },
    {
      "cell_type": "markdown",
      "source": [
        "### Inference with trained model"
      ],
      "metadata": {
        "id": "dT7YKnrWLC04"
      }
    },
    {
      "cell_type": "code",
      "source": [
        "import supervision as sv\n",
        "\n",
        "ds = sv.DetectionDataset.from_yolo(\n",
        "    images_directory_path=f\"{dataset.location}/test/images\",\n",
        "    annotations_directory_path=f\"{dataset.location}/test/labels\",\n",
        "    data_yaml_path=f\"{dataset.location}/data.yaml\",\n",
        "    force_masks=False\n",
        ")"
      ],
      "metadata": {
        "id": "SF5tGXtHeYS9"
      },
      "execution_count": null,
      "outputs": []
    },
    {
      "cell_type": "code",
      "source": [
        "import supervision as sv\n",
        "\n",
        "CONFIDENCE_TRESHOLD = 0.5\n",
        "\n",
        "predictions = {}\n",
        "\n",
        "for image_name, image in ds.images.items():\n",
        "    result = list(best_model.predict(image, conf=CONFIDENCE_TRESHOLD))[0]\n",
        "    detections = sv.Detections(\n",
        "        xyxy=result.prediction.bboxes_xyxy,\n",
        "        confidence=result.prediction.confidence,\n",
        "        class_id=result.prediction.labels.astype(int)\n",
        "    )\n",
        "    predictions[image_name] = detections"
      ],
      "metadata": {
        "id": "iqBcOUVuj3hc"
      },
      "execution_count": null,
      "outputs": []
    },
    {
      "cell_type": "markdown",
      "source": [
        "### Visualize inference results"
      ],
      "metadata": {
        "id": "qcQekcPllPoM"
      }
    },
    {
      "cell_type": "code",
      "source": [
        "import random\n",
        "random.seed(10)"
      ],
      "metadata": {
        "id": "qsAWCA0Bm9hH"
      },
      "execution_count": null,
      "outputs": []
    },
    {
      "cell_type": "code",
      "source": [
        "import supervision as sv\n",
        "\n",
        "MAX_IMAGE_COUNT = 5\n",
        "\n",
        "n = min(MAX_IMAGE_COUNT, len(ds.images))\n",
        "\n",
        "keys = list(ds.images.keys())\n",
        "keys = random.sample(keys, n)\n",
        "\n",
        "box_annotator = sv.BoxAnnotator()\n",
        "\n",
        "images = []\n",
        "titles = []\n",
        "\n",
        "for key in keys:\n",
        "    frame_with_annotations = box_annotator.annotate(\n",
        "        scene=ds.images[key].copy(),\n",
        "        detections=ds.annotations[key],\n",
        "        skip_label=True\n",
        "    )\n",
        "    images.append(frame_with_annotations)\n",
        "    titles.append('annotations')\n",
        "    frame_with_predictions = box_annotator.annotate(\n",
        "        scene=ds.images[key].copy(),\n",
        "        detections=predictions[key],\n",
        "        skip_label=True\n",
        "    )\n",
        "    images.append(frame_with_predictions)\n",
        "    titles.append('predictions')\n",
        "\n",
        "%matplotlib inline\n",
        "sv.plot_images_grid(images=images, titles=titles, grid_size=(n, 2), size=(2 * 4, n * 4))"
      ],
      "metadata": {
        "id": "e60g6GtxmMRA"
      },
      "execution_count": null,
      "outputs": []
    },
    {
      "cell_type": "markdown",
      "source": [
        "### Calculate confusion matrix"
      ],
      "metadata": {
        "id": "tmMIOT2hsM1F"
      }
    },
    {
      "cell_type": "code",
      "source": [
        "!pip install onemetric"
      ],
      "metadata": {
        "id": "6mSapibasSst"
      },
      "execution_count": null,
      "outputs": []
    },
    {
      "cell_type": "code",
      "source": [
        "import os\n",
        "\n",
        "import numpy as np\n",
        "\n",
        "from onemetric.cv.object_detection import ConfusionMatrix\n",
        "\n",
        "keys = list(ds.images.keys())\n",
        "\n",
        "annotation_batches, prediction_batches = [], []\n",
        "\n",
        "for key in keys:\n",
        "    annotation=ds.annotations[key]\n",
        "    annotation_batch = np.column_stack((\n",
        "        annotation.xyxy,\n",
        "        annotation.class_id\n",
        "    ))\n",
        "    annotation_batches.append(annotation_batch)\n",
        "\n",
        "    prediction=predictions[key]\n",
        "    prediction_batch = np.column_stack((\n",
        "        prediction.xyxy,\n",
        "        prediction.class_id,\n",
        "        prediction.confidence\n",
        "    ))\n",
        "    prediction_batches.append(prediction_batch)\n",
        "\n",
        "confusion_matrix = ConfusionMatrix.from_detections(\n",
        "    true_batches=annotation_batches,\n",
        "    detection_batches=prediction_batches,\n",
        "    num_classes=len(ds.classes),\n",
        "    conf_threshold=CONFIDENCE_TRESHOLD\n",
        ")\n",
        "\n",
        "confusion_matrix.plot(os.path.join(HOME, \"confusion_matrix.png\"), class_names=ds.classes)"
      ],
      "metadata": {
        "id": "r6en9Qxcs9Yy"
      },
      "execution_count": null,
      "outputs": []
    },
    {
      "cell_type": "code",
      "source": [
        "from tensorflow.keras.models import load_model"
      ],
      "metadata": {
        "id": "d_p2tc0qAUpw"
      },
      "execution_count": null,
      "outputs": []
    },
    {
      "cell_type": "code",
      "source": [
        "model.save('/content/drive/MyDrive/saved_models/coin_counter.hdf5')"
      ],
      "metadata": {
        "colab": {
          "base_uri": "https://localhost:8080/",
          "height": 383
        },
        "id": "5poWxUB7AdtH",
        "outputId": "dac3797f-9d0b-421f-bbea-bc60a56526cf"
      },
      "execution_count": null,
      "outputs": [
        {
          "output_type": "error",
          "ename": "AttributeError",
          "evalue": "ignored",
          "traceback": [
            "\u001b[0;31m---------------------------------------------------------------------------\u001b[0m",
            "\u001b[0;31mAttributeError\u001b[0m                            Traceback (most recent call last)",
            "\u001b[0;32m<ipython-input-24-4fa6e9f19daf>\u001b[0m in \u001b[0;36m<cell line: 1>\u001b[0;34m()\u001b[0m\n\u001b[0;32m----> 1\u001b[0;31m \u001b[0mmodel\u001b[0m\u001b[0;34m.\u001b[0m\u001b[0msave\u001b[0m\u001b[0;34m(\u001b[0m\u001b[0;34m'/content/drive/MyDrive/saved_models/coin_counter.hdf5'\u001b[0m\u001b[0;34m)\u001b[0m\u001b[0;34m\u001b[0m\u001b[0;34m\u001b[0m\u001b[0m\n\u001b[0m",
            "\u001b[0;32m/usr/local/lib/python3.10/dist-packages/torch/nn/modules/module.py\u001b[0m in \u001b[0;36m__getattr__\u001b[0;34m(self, name)\u001b[0m\n\u001b[1;32m   1267\u001b[0m             \u001b[0;32mif\u001b[0m \u001b[0mname\u001b[0m \u001b[0;32min\u001b[0m \u001b[0mmodules\u001b[0m\u001b[0;34m:\u001b[0m\u001b[0;34m\u001b[0m\u001b[0;34m\u001b[0m\u001b[0m\n\u001b[1;32m   1268\u001b[0m                 \u001b[0;32mreturn\u001b[0m \u001b[0mmodules\u001b[0m\u001b[0;34m[\u001b[0m\u001b[0mname\u001b[0m\u001b[0;34m]\u001b[0m\u001b[0;34m\u001b[0m\u001b[0;34m\u001b[0m\u001b[0m\n\u001b[0;32m-> 1269\u001b[0;31m         raise AttributeError(\"'{}' object has no attribute '{}'\".format(\n\u001b[0m\u001b[1;32m   1270\u001b[0m             type(self).__name__, name))\n\u001b[1;32m   1271\u001b[0m \u001b[0;34m\u001b[0m\u001b[0m\n",
            "\u001b[0;31mAttributeError\u001b[0m: 'YoloNAS_S' object has no attribute 'save'"
          ]
        }
      ]
    },
    {
      "cell_type": "code",
      "source": [
        "path = F\"/content/drive/MyDrive/saved_models/{EXPERIMENT_NAME}\"\n",
        "torch.save(model.state_dict(), path)"
      ],
      "metadata": {
        "id": "gMfSitPQDhGL"
      },
      "execution_count": null,
      "outputs": []
    },
    {
      "cell_type": "code",
      "source": [
        "model_save_name = 'cc.pt'\n",
        "path = F\"/content/drive/MyDrive/saved_models/{EXPERIMENT_NAME}\"\n",
        "model.load_state_dict(torch.load(path))"
      ],
      "metadata": {
        "colab": {
          "base_uri": "https://localhost:8080/"
        },
        "id": "zFTepx4hD7yX",
        "outputId": "3b8cc4f4-f1d2-4cee-911d-2f0d36b1a5a0"
      },
      "execution_count": null,
      "outputs": [
        {
          "output_type": "execute_result",
          "data": {
            "text/plain": [
              "<All keys matched successfully>"
            ]
          },
          "metadata": {},
          "execution_count": 34
        }
      ]
    }
  ]
}